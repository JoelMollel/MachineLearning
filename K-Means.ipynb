{
 "cells": [
  {
   "cell_type": "markdown",
   "id": "4e3a053d-4606-4543-a38f-631872bdd661",
   "metadata": {},
   "source": [
    "STUDENT: Joel S. Mollel\n",
    "\n",
    "NUMBER: C00313599\n",
    "\n",
    "ALGORITHM: K-Means"
   ]
  },
  {
   "cell_type": "markdown",
   "id": "5c665ab2-336f-4f2d-aaea-2868a15bd90e",
   "metadata": {},
   "source": [
    "We are provided with code that performs clustering on the digits dataset using the K-Means algorithm to group the data into 10 clusters, corresponding to the 10 digit classes.\n",
    "\n",
    "It visualizes the cluster centers as images representing the average appearance of each cluster. \n",
    "\n",
    "Finally, it evaluates the clustering accuracy by comparing the predicted labels with the actual digit labels from the dataset.\n",
    "\n",
    "Provided with K-Means Code, we are required to\n",
    "\n",
    "i) make sure it runs\n",
    "\n",
    "ii)Change some hyperparameters and see the impact\n",
    "\n",
    "iii)Use another dataset and perform other operations, and simulate as an app"
   ]
  },
  {
   "cell_type": "markdown",
   "id": "4d0a7990-070b-43f6-896e-e632f328cec5",
   "metadata": {},
   "source": [
    "(i) The code run well after installing all the required libraries\n",
    "\n",
    "Accuracy obtained: 0.7440"
   ]
  },
  {
   "cell_type": "code",
   "execution_count": null,
   "id": "1a1b08f5-cb3a-4d67-8d58-fea71386f01c",
   "metadata": {},
   "outputs": [],
   "source": [
    "import numpy as np\n",
    "import matplotlib.pyplot as plt\n",
    "from sklearn.cluster import KMeans\n",
    "from sklearn.datasets import load_digits\n",
    "\n",
    "digits = load_digits()\n",
    "digits.data.shape\n",
    "\n",
    "kmeans = KMeans(n_clusters=10, random_state=0)\n",
    "clusters = kmeans.fit_predict(digits.data)\n",
    "kmeans.cluster_centers_.shape\n",
    "\n",
    "fig, ax = plt.subplots(2, 5, figsize=(8, 3))\n",
    "centers = kmeans.cluster_centers_.reshape(10, 8, 8)\n",
    "for axi, center in zip(ax.flat, centers):\n",
    "    axi.set(xticks=[], yticks=[])\n",
    "    axi.imshow(center, interpolation='nearest', cmap=plt.cm.binary)\n",
    "\n",
    "from scipy.stats import mode\n",
    "labels = np.zeros_like(clusters)\n",
    "for i in range(10):\n",
    "    mask = (clusters == i)\n",
    "    labels[mask] = mode(digits.target[mask])[0]\n",
    "\n",
    "from sklearn.metrics import accuracy_score\n",
    "accuracy_score(digits.target, labels)\n"
   ]
  },
  {
   "cell_type": "markdown",
   "id": "4107d205-5264-4bdb-b659-d0c79ba56f52",
   "metadata": {},
   "source": [
    "ii)Change some hyperparameters and see the impact\n",
    "\n",
    "In this case, I will change number of clusters from 10 to 8, accuracy dropped from 0.7440 to 0.6466"
   ]
  },
  {
   "cell_type": "code",
   "execution_count": null,
   "id": "4c80d0a6-c8e2-4eb0-b731-764f5f899320",
   "metadata": {},
   "outputs": [],
   "source": [
    "import numpy as np\n",
    "import matplotlib.pyplot as plt\n",
    "from sklearn.cluster import KMeans\n",
    "from sklearn.datasets import load_digits\n",
    "\n",
    "digits = load_digits()\n",
    "\n",
    "kmeans = KMeans(n_clusters=8, random_state=0)  # Adjusted number of clusters to 8\n",
    "clusters = kmeans.fit_predict(digits.data)\n",
    "\n",
    "fig, ax = plt.subplots(2, 4, figsize=(8, 3))  # Adjusted for 8 clusters\n",
    "centers = kmeans.cluster_centers_.reshape(8, 8, 8)  # Adjusted for 8 clusters\n",
    "for axi, center in zip(ax.flat, centers):\n",
    "    axi.set(xticks=[], yticks=[])\n",
    "    axi.imshow(center, interpolation='nearest', cmap=plt.cm.binary)\n",
    "\n",
    "from scipy.stats import mode\n",
    "labels = np.zeros_like(clusters)\n",
    "for i in range(8):  # Adjusted for 8 clusters\n",
    "    mask = (clusters == i)\n",
    "    labels[mask] = mode(digits.target[mask])[0]\n",
    "\n",
    "\n",
    "from sklearn.metrics import accuracy_score # Calculate the accuracy score\n",
    "accuracy_score(digits.target, labels)\n"
   ]
  },
  {
   "cell_type": "code",
   "execution_count": null,
   "id": "972d73b2-3def-4796-8b41-c069582e44b9",
   "metadata": {},
   "outputs": [],
   "source": [
    "import numpy as np\n",
    "import matplotlib.pyplot as plt\n",
    "from sklearn.cluster import KMeans\n",
    "from sklearn.datasets import load_digits\n",
    "\n",
    "# Load the digits dataset\n",
    "digits = load_digits()\n",
    "\n",
    "# Define the KMeans model with an adjusted tolerance value (e.g., tol=1e-4)\n",
    "kmeans = KMeans(n_clusters=10, tol=1e-4, random_state=0)  # Adjusted tolerance to 1e-4\n",
    "clusters = kmeans.fit_predict(digits.data)\n",
    "\n",
    "# Reshape and display the cluster centers\n",
    "fig, ax = plt.subplots(2, 5, figsize=(8, 3))\n",
    "centers = kmeans.cluster_centers_.reshape(10, 8, 8)\n",
    "for axi, center in zip(ax.flat, centers):\n",
    "    axi.set(xticks=[], yticks=[])\n",
    "    axi.imshow(center, interpolation='nearest', cmap=plt.cm.binary)\n",
    "\n",
    "# Assign labels to clusters based on the majority class in each cluster\n",
    "from scipy.stats import mode\n",
    "labels = np.zeros_like(clusters)\n",
    "for i in range(10):  # Adjusted for 10 clusters\n",
    "    mask = (clusters == i)\n",
    "    labels[mask] = mode(digits.target[mask])[0]\n",
    "\n",
    "# Calculate the accuracy score\n",
    "from sklearn.metrics import accuracy_score\n",
    "accuracy_score(digits.target, labels)\n"
   ]
  },
  {
   "cell_type": "markdown",
   "id": "8d5597f8-8f98-48f5-ad88-1865f996033f",
   "metadata": {},
   "source": [
    "iii)Use another dataset and perform other operations, and simulate as an app"
   ]
  },
  {
   "cell_type": "markdown",
   "id": "052dc195-273d-4d26-9885-5186438fbe11",
   "metadata": {},
   "source": [
    "I will use the Iris dataset\n",
    "The Iris dataset consists of 150 samples from three iris flower species: Setosa, Versicolor, and Virginica. Each sample has four features—sepal length, sepal width, petal length, and petal width— measured in centimeters. The label values will therefore be Setosa, Versicolor, and Virginica "
   ]
  },
  {
   "cell_type": "markdown",
   "id": "6bda6e20-a306-4dde-b18a-8c4f45e8e742",
   "metadata": {},
   "source": [
    "(a) Let us start with training the model and testing its accuracy"
   ]
  },
  {
   "cell_type": "markdown",
   "id": "4509a5e9-441b-43ac-8550-e03f28753f47",
   "metadata": {},
   "source": [
    "step1: Loading libraries and dataset"
   ]
  },
  {
   "cell_type": "code",
   "execution_count": null,
   "id": "c85440be-403e-4dd3-a10a-b75f58daaf55",
   "metadata": {},
   "outputs": [],
   "source": [
    "import numpy as np\n",
    "import matplotlib.pyplot as plt\n",
    "from sklearn.cluster import KMeans\n",
    "from sklearn.datasets import load_iris\n",
    "from sklearn.metrics import accuracy_score\n",
    "from scipy.stats import mode\n",
    "\n",
    "iris = load_iris()\n",
    "iris_data = iris.data\n",
    "iris_target = iris.target"
   ]
  },
  {
   "cell_type": "markdown",
   "id": "64398d2d-d3c5-4902-a3c5-61c0bc015d08",
   "metadata": {},
   "source": [
    "Step2: printing 5 rows of data to see the structure\n",
    "\n",
    "The label values and their meaning\n",
    "\n",
    "0 = Setosa\n",
    "\n",
    "1 = Versicolor\n",
    "\n",
    "2 = Virginica"
   ]
  },
  {
   "cell_type": "code",
   "execution_count": null,
   "id": "2211960d-ccee-43c2-8db5-ad2c38f6eefa",
   "metadata": {},
   "outputs": [],
   "source": [
    "import pandas as pd\n",
    "iris_df = pd.DataFrame(iris.data, columns=iris.feature_names)\n",
    "iris_df['label'] = iris.target\n",
    "print(iris_df.head())"
   ]
  },
  {
   "cell_type": "markdown",
   "id": "9b2cb32e-790c-498d-bafc-c48e93b9804b",
   "metadata": {},
   "source": [
    "step3: Perform clusterng"
   ]
  },
  {
   "cell_type": "code",
   "execution_count": null,
   "id": "ecfc34c0-f321-433e-9079-7c739dbf18a0",
   "metadata": {},
   "outputs": [],
   "source": [
    "kmeans = KMeans(n_clusters=3, random_state=0)\n",
    "clusters = kmeans.fit_predict(iris_data)"
   ]
  },
  {
   "cell_type": "markdown",
   "id": "b5d11cb4-15cc-4248-97dd-4a68346c5e9e",
   "metadata": {},
   "source": [
    "step4: Visualize how datapoints are distributed for each flower cluster"
   ]
  },
  {
   "cell_type": "code",
   "execution_count": null,
   "id": "0fb96064-8861-494c-acd9-047b852f16c4",
   "metadata": {},
   "outputs": [],
   "source": [
    "from sklearn.decomposition import PCA\n",
    "import matplotlib.pyplot as plt\n",
    "\n",
    "pca = PCA(n_components=2)\n",
    "reduced_data = pca.fit_transform(iris_data)\n",
    "\n",
    "cluster_names = ['Setosa', 'Versicolor', 'Virginica']\n",
    "\n",
    "plt.figure(figsize=(8, 6))\n",
    "\n",
    "for i, name in enumerate(cluster_names):\n",
    "    mask = clusters == i \n",
    "    plt.scatter(reduced_data[mask, 0], reduced_data[mask, 1], label=name)\n",
    "\n",
    "plt.title('KMeans Clustering on Iris Dataset (PCA Reduced)') #title and axis labels\n",
    "\n",
    "plt.xlabel('PCA Component 1')\n",
    "plt.ylabel('PCA Component 2')\n",
    "\n",
    "# Add a legend to map clusters to species names\n",
    "plt.legend(title=\"Iris Species\")\n",
    "\n",
    "# Display the plot\n",
    "plt.show()\n"
   ]
  },
  {
   "cell_type": "markdown",
   "id": "4710f364-06cc-4f5d-99b0-65ede3e53fe6",
   "metadata": {},
   "source": [
    "(b) Let us prompt user input so that a user can use our system to put the flower into its appropriate cluster\n",
    "\n",
    "Steps are the same as above but there is additinal code for user input prompt and the processing of the entered values"
   ]
  },
  {
   "cell_type": "code",
   "execution_count": null,
   "id": "64a675cf-8f5e-478e-b1ad-ae86baca2667",
   "metadata": {},
   "outputs": [],
   "source": [
    "\n",
    "from sklearn.datasets import load_iris\n",
    "from sklearn.cluster import KMeans\n",
    "from scipy.stats import mode\n",
    "\n",
    "# Loading the Iris dataset, just as above\n",
    "iris = load_iris()\n",
    "iris_data = iris.data\n",
    "iris_target = iris.target\n",
    "\n",
    "# Train KMeans clustering, just as above\n",
    "kmeans = KMeans(n_clusters=3, random_state=0)\n",
    "clusters = kmeans.fit_predict(iris_data)\n",
    "\n",
    "# Reassign clusters to match the target labels as step4 above\n",
    "labels = np.zeros_like(clusters)\n",
    "for i in range(3):\n",
    "    mask = (clusters == i)\n",
    "    labels[mask] = mode(iris_target[mask], axis=None)[0]  # Safely access the mode\n",
    "\n",
    "# Prompting the user to enter the flower features \n",
    "print(\"Enter the values for the following features of the flower you want to identify (in cm):\")\n",
    "sepal_length = float(input(\"Sepal length (cm): \"))\n",
    "sepal_width = float(input(\"Sepal width (cm): \"))\n",
    "petal_length = float(input(\"Petal length (cm): \"))\n",
    "petal_width = float(input(\"Petal width (cm): \"))\n",
    "\n",
    "# Create a new data point based on user input\n",
    "new_flower = np.array([[sepal_length, sepal_width, petal_length, petal_width]])\n",
    "\n",
    "# actual prediction occurs here\n",
    "predicted_cluster = kmeans.predict(new_flower)[0]\n",
    "\n",
    "\n",
    "predicted_flower_name = iris.target_names[mode(iris_target[clusters == predicted_cluster], axis=None)[0]]\n",
    "\n",
    "# Display the result\n",
    "print(f\"The predicted flower type is: {predicted_flower_name.capitalize()}\")\n"
   ]
  },
  {
   "cell_type": "code",
   "execution_count": null,
   "id": "1793859b-f490-427c-8d8e-1c5d7c79a2be",
   "metadata": {},
   "outputs": [],
   "source": []
  }
 ],
 "metadata": {
  "kernelspec": {
   "display_name": "Python 3 (ipykernel)",
   "language": "python",
   "name": "python3"
  },
  "language_info": {
   "codemirror_mode": {
    "name": "ipython",
    "version": 3
   },
   "file_extension": ".py",
   "mimetype": "text/x-python",
   "name": "python",
   "nbconvert_exporter": "python",
   "pygments_lexer": "ipython3",
   "version": "3.11.9"
  }
 },
 "nbformat": 4,
 "nbformat_minor": 5
}
