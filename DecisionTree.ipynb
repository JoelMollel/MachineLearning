{
 "cells": [
  {
   "cell_type": "markdown",
   "id": "b6bf69aa-e318-49b8-a3f3-8479159d77e2",
   "metadata": {},
   "source": [
    "STUDENT: Joel S. Mollel\n",
    "\n",
    "NUMBER: C00313599\n",
    "\n",
    "ALGORITHIM: Decision Trees"
   ]
  },
  {
   "cell_type": "code",
   "execution_count": null,
   "id": "1d4cd07e-ac33-46a4-bc04-5ae98c6f1250",
   "metadata": {},
   "outputs": [],
   "source": []
  },
  {
   "cell_type": "code",
   "execution_count": null,
   "id": "2be7f914-4353-49c8-8bcf-a315bb34d050",
   "metadata": {},
   "outputs": [],
   "source": []
  },
  {
   "cell_type": "markdown",
   "id": "a20fb5ef-108a-4246-9a4d-2883894241d8",
   "metadata": {},
   "source": [
    "Provided with two Decision Trees\n",
    "Requirement\n",
    "1. Runing the code and resolve any errors it might have\n",
    "2. Adjust parameters to see the how they affect the results\n",
    "3. Use another dataset and adjust the code to do Decision Tree classification work for you"
   ]
  },
  {
   "cell_type": "markdown",
   "id": "131dc599-93ac-4a10-8aec-9e152c50fad6",
   "metadata": {},
   "source": [
    "STEP 1: RUNNING THE CODE PROVIDED FOR THE FIRST DECISION TREE\n",
    "\n",
    "(a) The code below did run well after the installation of the libraries I have listed in the requirements.txt file I have associated with this project"
   ]
  },
  {
   "cell_type": "code",
   "execution_count": null,
   "id": "b8acf3c3-761d-4a08-9c01-ac60cadb1a78",
   "metadata": {},
   "outputs": [],
   "source": [
    "import matplotlib.pyplot as plt\n",
    "from sklearn.datasets import make_blobs\n",
    "\n",
    "X, y = make_blobs(n_samples=300, centers=4, random_state=0, cluster_std=1.0)\n",
    "plt.scatter(X[:, 0], X[:, 1], c=y, s=50, cmap='rainbow')\n",
    "plt.show()  # This will display the plot\n",
    "\n"
   ]
  },
  {
   "cell_type": "markdown",
   "id": "328f9f51-9e65-460f-8185-44be36fe1681",
   "metadata": {},
   "source": [
    "(b) Adjusting the parameters and observe changes"
   ]
  },
  {
   "cell_type": "markdown",
   "id": "49d6530c-3bb8-4ec8-8164-e5d2aa66c7e7",
   "metadata": {},
   "source": [
    "I will change the number of clusters to see the number that will result in a better classification\n",
    "\n",
    "Under the same standard deviation value, 5 clusters below did better a classification than 4 clusters above"
   ]
  },
  {
   "cell_type": "code",
   "execution_count": null,
   "id": "e1a3a121-b4d3-44ee-95ce-52e5e1c538a4",
   "metadata": {},
   "outputs": [],
   "source": [
    "\n",
    "from sklearn.datasets import make_blobs\n",
    "\n",
    "X, y = make_blobs(n_samples=300, centers=5,\n",
    "                  random_state=0, cluster_std=1.0)\n",
    "plt.scatter(X[:, 0], X[:, 1], c=y, s=50, cmap='rainbow');"
   ]
  },
  {
   "cell_type": "markdown",
   "id": "1e06ee99-4716-4aef-9844-8a13134d77d7",
   "metadata": {},
   "source": [
    "STEP 2: RUNNING THE SECOND DECISION TREE CODE GIVEN\n",
    "\n",
    "(a) After the installation of libraries the program did run"
   ]
  },
  {
   "cell_type": "code",
   "execution_count": null,
   "id": "b6663752-9fc3-4f2c-9a10-2b4086badf54",
   "metadata": {},
   "outputs": [],
   "source": [
    "from sklearn.tree import DecisionTreeClassifier\n",
    "tree = DecisionTreeClassifier().fit(X, y)"
   ]
  },
  {
   "cell_type": "code",
   "execution_count": null,
   "id": "1f498bd7-831e-4acb-a094-3d4e87b23867",
   "metadata": {},
   "outputs": [],
   "source": [
    "import numpy as np\n",
    "def visualize_classifier(model, X, y, ax=None, cmap='rainbow'):\n",
    "    ax = ax or plt.gca()\n",
    "    \n",
    "    # Plot the training points\n",
    "    ax.scatter(X[:, 0], X[:, 1], c=y, s=30, cmap=cmap,\n",
    "               clim=(y.min(), y.max()), zorder=3)\n",
    "    ax.axis('tight')\n",
    "    ax.axis('off')\n",
    "    xlim = ax.get_xlim()\n",
    "    ylim = ax.get_ylim()\n",
    "    \n",
    "    # fit the estimator\n",
    "    model.fit(X, y)\n",
    "    xx, yy = np.meshgrid(np.linspace(*xlim, num=200),\n",
    "                         np.linspace(*ylim, num=200))\n",
    "    Z = model.predict(np.c_[xx.ravel(), yy.ravel()]).reshape(xx.shape)\n",
    "\n",
    "    # Create a color plot with the results\n",
    "    n_classes = len(np.unique(y))\n",
    "    contours = ax.contourf(xx, yy, Z, alpha=0.3,\n",
    "                           levels=np.arange(n_classes + 1) - 0.5,\n",
    "                           cmap=cmap, clim=(y.min(), y.max()),\n",
    "                           zorder=1)\n",
    "\n",
    "    ax.set(xlim=xlim, ylim=ylim)"
   ]
  },
  {
   "cell_type": "code",
   "execution_count": null,
   "id": "16728244-6868-4db6-8664-8359f8783bb1",
   "metadata": {},
   "outputs": [],
   "source": []
  },
  {
   "cell_type": "code",
   "execution_count": null,
   "id": "a92bb533-0ea6-4906-ad4f-186409cc40d9",
   "metadata": {
    "scrolled": true
   },
   "outputs": [],
   "source": [
    "visualize_classifier(DecisionTreeClassifier(), X, y)\n"
   ]
  },
  {
   "cell_type": "markdown",
   "id": "cb239c4e-778b-4ee6-9397-b06bf93d8506",
   "metadata": {},
   "source": [
    "(b) I want to implement prunning by changing the depth which is the hyper-parameter in the model to see the impact \n",
    "\n",
    "I will use max_depth=3, max_depth=3, max_depth=5, and max_depth=7. This will help us locate the more appropriate depth for classification. It will also show us underfitting and overfitting concepts\n",
    "When we decrease depth, it is technically tree prunning, a concept we also covered in the class"
   ]
  },
  {
   "cell_type": "markdown",
   "id": "65322f56-2f33-4cbe-83fc-97f407bd855b",
   "metadata": {},
   "source": [
    "Max depth =1, there is underfitting here and the model is missing important classification patterns"
   ]
  },
  {
   "cell_type": "code",
   "execution_count": null,
   "id": "f98ef374-2af3-4c47-a370-b08178e03711",
   "metadata": {},
   "outputs": [],
   "source": [
    "visualize_classifier(DecisionTreeClassifier(max_depth=1), X, y)\n"
   ]
  },
  {
   "cell_type": "markdown",
   "id": "ac48b155-ed1f-4495-b80b-0c171099e646",
   "metadata": {},
   "source": [
    "Max depth =3 still has underfitting problem, though its better than  when the previous when depth was set to 1"
   ]
  },
  {
   "cell_type": "code",
   "execution_count": null,
   "id": "ec59c70e-b00d-48fb-a6e4-cf16b6497c2c",
   "metadata": {},
   "outputs": [],
   "source": [
    "\n",
    "visualize_classifier(DecisionTreeClassifier(max_depth=3), X, y) "
   ]
  },
  {
   "cell_type": "markdown",
   "id": "aa3ca0a2-1a7f-488e-a868-844994cce814",
   "metadata": {},
   "source": [
    " Max depth =5 looks ideal for this classification, there is neither notable underfitting nor overfitting"
   ]
  },
  {
   "cell_type": "code",
   "execution_count": null,
   "id": "05c23020-db90-4412-a75f-3bdfddbde42f",
   "metadata": {},
   "outputs": [],
   "source": [
    "visualize_classifier(DecisionTreeClassifier(max_depth=5), X, y) "
   ]
  },
  {
   "cell_type": "markdown",
   "id": "8dd83cbe-1e81-43e3-b834-9797eb2cd805",
   "metadata": {},
   "source": [
    "Max depth =7 has started showing overfitting as shown below"
   ]
  },
  {
   "cell_type": "code",
   "execution_count": null,
   "id": "ba5a6b87-9590-433e-a154-3163d90d092d",
   "metadata": {},
   "outputs": [],
   "source": [
    "visualize_classifier(DecisionTreeClassifier(max_depth=7), X, y) "
   ]
  },
  {
   "cell_type": "markdown",
   "id": "bd01c24c-60d7-4009-9c94-103c71dacd15",
   "metadata": {},
   "source": [
    "\n"
   ]
  },
  {
   "cell_type": "code",
   "execution_count": null,
   "id": "b684c720-2e06-4f79-94de-0c308a644813",
   "metadata": {},
   "outputs": [],
   "source": []
  },
  {
   "cell_type": "markdown",
   "id": "a75a0310-503e-41a1-9640-9206c61fbdfc",
   "metadata": {},
   "source": [
    "NEW DATASET"
   ]
  },
  {
   "cell_type": "markdown",
   "id": "5485ecdc-a9ea-4a1e-99f1-2aaf46e09e6b",
   "metadata": {},
   "source": [
    "I will use the drug200.csv dataset which prescribes drugs to patient based on their age,sex,BP, cholestrol, and Sodium to potassium ratio\n",
    "\n",
    "The goal is to\n",
    "\n",
    "i) Visualize the dataset on the decision tree\n",
    "\n",
    "ii) Show important features that determines the value of target labels\n",
    "\n",
    "iii) Changing the hyperparameters(user input enabled) and observe the resulting accuracy and length of the tree"
   ]
  },
  {
   "cell_type": "markdown",
   "id": "f59a950b-5a07-455a-967e-383762457267",
   "metadata": {},
   "source": [
    "step1: importing libraries and loading data"
   ]
  },
  {
   "cell_type": "code",
   "execution_count": null,
   "id": "91f0eef8-73b5-4e0d-9ea7-cfde129a3fb4",
   "metadata": {},
   "outputs": [],
   "source": [
    "import pandas as pd\n",
    "import numpy as np\n",
    "import matplotlib.pyplot as plt\n",
    "from sklearn.tree import DecisionTreeClassifier, plot_tree\n",
    "from sklearn.preprocessing import LabelEncoder\n",
    "from sklearn.model_selection import train_test_split\n",
    "from sklearn.preprocessing import StandardScaler\n",
    "\n",
    "df = pd.read_csv('drug200.csv')"
   ]
  },
  {
   "cell_type": "markdown",
   "id": "3025b893-4aba-4295-8e16-2c6cb8474613",
   "metadata": {},
   "source": [
    "step2: Getting general idea of the dataset, viewing the head"
   ]
  },
  {
   "cell_type": "code",
   "execution_count": null,
   "id": "9064d47a-f443-437d-a4dc-2e191f938e20",
   "metadata": {},
   "outputs": [],
   "source": [
    "print(df.head())"
   ]
  },
  {
   "cell_type": "markdown",
   "id": "7b7a17d1-1288-4166-994c-b620fdea931f",
   "metadata": {},
   "source": [
    "step3:Encoding categorical variables"
   ]
  },
  {
   "cell_type": "code",
   "execution_count": null,
   "id": "24f3a3a3-9aea-4666-b164-196fdfe85f0e",
   "metadata": {},
   "outputs": [],
   "source": [
    "df['Sex'] = df['Sex'].map({'F': 0, 'M': 1})  # 'F' -> 0, 'M' -> 1\n",
    "df['BP'] = df['BP'].map({'LOW': 0, 'NORMAL': 1, 'HIGH': 2})  \n",
    "df['Cholesterol'] = df['Cholesterol'].map({'NORMAL': 0, 'HIGH': 1})  "
   ]
  },
  {
   "cell_type": "markdown",
   "id": "c107ace2-72d0-4950-9774-17b0d8840d6d",
   "metadata": {},
   "source": [
    "step4: Extracting features and target variable"
   ]
  },
  {
   "cell_type": "code",
   "execution_count": null,
   "id": "cb288f75-fc90-4f51-9741-1c586e4fa9ea",
   "metadata": {},
   "outputs": [],
   "source": [
    "X = df[['Age', 'Sex', 'BP', 'Cholesterol', 'Na_to_K']].values ##I will use all features\n",
    "y = df['Drug'].values ##This is my target variable"
   ]
  },
  {
   "cell_type": "markdown",
   "id": "f80c2dfb-8ef3-43e9-be38-b2bdccca7039",
   "metadata": {},
   "source": [
    "Step 5: Encoding the target variable"
   ]
  },
  {
   "cell_type": "code",
   "execution_count": null,
   "id": "8f91f7dc-6e37-4493-a3da-2576ca107b02",
   "metadata": {},
   "outputs": [],
   "source": [
    "encoder = LabelEncoder()\n",
    "y_encoded = encoder.fit_transform(y)"
   ]
  },
  {
   "cell_type": "markdown",
   "id": "ba52c893-9f8c-46db-8590-76211c4b05d6",
   "metadata": {},
   "source": [
    "Step6: Splitting dataset into training and testing datasets. I will use 70% for training and 30% for testing"
   ]
  },
  {
   "cell_type": "code",
   "execution_count": null,
   "id": "424cf6ef-9077-4b23-906f-5952b1252e75",
   "metadata": {},
   "outputs": [],
   "source": [
    "X_train, X_test, y_train, y_test = train_test_split(X, y_encoded, test_size=0.3, random_state=42)"
   ]
  },
  {
   "cell_type": "markdown",
   "id": "676fd2b0-56f9-4af1-bae2-9cb228faa5ad",
   "metadata": {},
   "source": [
    "step7: Standardise features for better performance"
   ]
  },
  {
   "cell_type": "code",
   "execution_count": null,
   "id": "c1fd9837-6935-4dac-9caa-6b7dd7f382c3",
   "metadata": {},
   "outputs": [],
   "source": [
    "scaler = StandardScaler()\n",
    "X_train_scaled = scaler.fit_transform(X_train)\n",
    "X_test_scaled = scaler.transform(X_test)"
   ]
  },
  {
   "cell_type": "markdown",
   "id": "5356a36d-30ce-4d5f-a46c-8c6eabfe709b",
   "metadata": {},
   "source": [
    "Step 8: Creating and training decision tree classifier"
   ]
  },
  {
   "cell_type": "code",
   "execution_count": null,
   "id": "015f8760-6dd6-401f-a49c-aafbd39db972",
   "metadata": {},
   "outputs": [],
   "source": [
    "model = DecisionTreeClassifier(random_state=42)\n",
    "\n",
    "# I am using all features\n",
    "model.fit(X_train_scaled, y_train)"
   ]
  },
  {
   "cell_type": "markdown",
   "id": "67f1f256-5665-472d-b41e-267e67dbcb5f",
   "metadata": {},
   "source": [
    "Step9: Visualize the structure of Decision Tree"
   ]
  },
  {
   "cell_type": "code",
   "execution_count": null,
   "id": "75053cc4-4ac8-4fde-9392-caf36403681d",
   "metadata": {},
   "outputs": [],
   "source": [
    "plt.figure(figsize=(20,10))\n",
    "plot_tree(model, filled=True, feature_names=['Age', 'Sex', 'BP', 'Cholesterol', 'Na_to_K'], class_names=encoder.classes_, rounded=True, fontsize=12)\n",
    "plt.show()"
   ]
  },
  {
   "cell_type": "markdown",
   "id": "682bf02f-840b-41c2-a1a2-313a341554a7",
   "metadata": {},
   "source": [
    "Step10: Determining Features that are more important for them model starting with the most import"
   ]
  },
  {
   "cell_type": "code",
   "execution_count": null,
   "id": "9f574d45-52a6-4212-adf0-4e63b2967182",
   "metadata": {},
   "outputs": [],
   "source": [
    "print(\"\\nFeature Importances:\")\n",
    "for feature, importance in zip(['Age', 'Sex', 'BP', 'Cholesterol', 'Na_to_K'], model.feature_importances_):\n",
    "    print(f\"{feature}: {importance:.4f}\")"
   ]
  },
  {
   "cell_type": "code",
   "execution_count": null,
   "id": "85b4487c-4fe1-4b3d-908c-537c368e4035",
   "metadata": {},
   "outputs": [],
   "source": []
  },
  {
   "cell_type": "markdown",
   "id": "42270bb0-23cc-49dd-a6ab-120533277f0a",
   "metadata": {},
   "source": [
    "Prunning the tree using max_depth\n",
    "I want to see how prunning affect the accuracy and tree size"
   ]
  },
  {
   "cell_type": "markdown",
   "id": "9414ba09-930a-4582-a85b-08826087cb15",
   "metadata": {},
   "source": [
    "Importing libraries and the dataset"
   ]
  },
  {
   "cell_type": "code",
   "execution_count": null,
   "id": "8c643b1f-0169-455d-a2eb-ffea7912579a",
   "metadata": {},
   "outputs": [],
   "source": [
    "import numpy as np\n",
    "import matplotlib.pyplot as plt\n",
    "from sklearn.tree import DecisionTreeClassifier, plot_tree\n",
    "from sklearn.model_selection import train_test_split\n",
    "from sklearn.preprocessing import LabelEncoder, StandardScaler\n",
    "df = pd.read_csv('drug200.csv')"
   ]
  },
  {
   "cell_type": "markdown",
   "id": "0079549d-1be5-419e-b340-f2bf21180c2a",
   "metadata": {},
   "source": [
    "Declaration of features and target variables"
   ]
  },
  {
   "cell_type": "code",
   "execution_count": null,
   "id": "be4768d4-1474-4512-a9f5-b6b0ed71d20c",
   "metadata": {},
   "outputs": [],
   "source": [
    "X = df[['Age', 'Sex', 'BP', 'Cholesterol', 'Na_to_K']].values  \n",
    "y = df['Drug'].values"
   ]
  },
  {
   "cell_type": "markdown",
   "id": "87ec0dd7-b630-45cb-8f0c-4e01896e2957",
   "metadata": {},
   "source": [
    "Encoding the categorical target Labels(Drug), models work with numbers"
   ]
  },
  {
   "cell_type": "code",
   "execution_count": null,
   "id": "d6f9f24e-4153-43be-895f-579e1bad1964",
   "metadata": {},
   "outputs": [],
   "source": [
    "encoder = LabelEncoder()\n",
    "y_encoded = encoder.fit_transform(y)"
   ]
  },
  {
   "cell_type": "markdown",
   "id": "eeb9f5d0-b95d-4ed7-b34e-3bec91a19c0a",
   "metadata": {},
   "source": [
    "Encoding Categorical features, that is Sex,Age,BP,Cholestrol, and Na-to-K"
   ]
  },
  {
   "cell_type": "code",
   "execution_count": null,
   "id": "f7d9de74-34bf-40f1-88f9-3545d9f549f6",
   "metadata": {},
   "outputs": [],
   "source": [
    "X[:, 1] = LabelEncoder().fit_transform(X[:, 1]) \n",
    "X[:, 2] = LabelEncoder().fit_transform(X[:, 2])  \n",
    "X[:, 3] = LabelEncoder().fit_transform(X[:, 3])"
   ]
  },
  {
   "cell_type": "markdown",
   "id": "34cb73bb-fe07-4d92-aa3e-c6eb23cd8522",
   "metadata": {},
   "source": [
    "Splitting the dataset into Trainingset(70%) and testset(30%)"
   ]
  },
  {
   "cell_type": "code",
   "execution_count": null,
   "id": "71e8b7c2-595e-42a9-be0f-af48ef181bd0",
   "metadata": {},
   "outputs": [],
   "source": [
    "X_train, X_test, y_train, y_test = train_test_split(X, y_encoded, test_size=0.2, random_state=42)"
   ]
  },
  {
   "cell_type": "markdown",
   "id": "1d31caaa-551d-415e-b3f0-ca319ad423e5",
   "metadata": {},
   "source": [
    "Features Standardization"
   ]
  },
  {
   "cell_type": "code",
   "execution_count": null,
   "id": "30b5ebc6-24ba-4430-850d-88cd0e6629cf",
   "metadata": {},
   "outputs": [],
   "source": [
    "scaler = StandardScaler()\n",
    "X_train_scaled = scaler.fit_transform(X_train)\n",
    "X_test_scaled = scaler.transform(X_test)"
   ]
  },
  {
   "cell_type": "markdown",
   "id": "ccc4ffc1-8404-4769-b871-85610edaf944",
   "metadata": {},
   "source": [
    "Prompt the user to enter the max_depth value. This provides flexibility than hardcoding. Train the model.\n",
    "Print the decision tree based on the max_depth value entered and also see the accuracy obtained by the same depth"
   ]
  },
  {
   "cell_type": "code",
   "execution_count": null,
   "id": "7b440632-835a-4592-b2d7-cfd7aae11e11",
   "metadata": {},
   "outputs": [],
   "source": [
    "max_depth = int(input(\"Enter the max_depth value for the Decision Tree: \"))\n",
    "model = DecisionTreeClassifier(max_depth=max_depth, random_state=42)\n",
    "model.fit(X_train_scaled, y_train)\n",
    "plt.figure(figsize=(20,10))\n",
    "plot_tree(model, filled=True, feature_names=['Age', 'Sex', 'BP', 'Cholesterol', 'Na_to_K'], \n",
    "          class_names=encoder.classes_, rounded=True, fontsize=12)\n",
    "plt.title(f\"Decision Tree with max_depth={max_depth}\")\n",
    "plt.show()\n",
    "print(f\"Accuracy of Decision Tree with max_depth={max_depth}: {model.score(X_test_scaled, y_test):.4f}\")"
   ]
  }
 ],
 "metadata": {
  "kernelspec": {
   "display_name": "Python 3 (ipykernel)",
   "language": "python",
   "name": "python3"
  },
  "language_info": {
   "codemirror_mode": {
    "name": "ipython",
    "version": 3
   },
   "file_extension": ".py",
   "mimetype": "text/x-python",
   "name": "python",
   "nbconvert_exporter": "python",
   "pygments_lexer": "ipython3",
   "version": "3.11.9"
  }
 },
 "nbformat": 4,
 "nbformat_minor": 5
}
