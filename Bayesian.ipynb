{
 "cells": [
  {
   "cell_type": "markdown",
   "id": "ea25b6db-35f9-4d5a-9a55-434f3f3616af",
   "metadata": {},
   "source": [
    "# "
   ]
  },
  {
   "cell_type": "markdown",
   "id": "b1166e29-5d0a-47ad-b249-de5951ced131",
   "metadata": {},
   "source": [
    "STUDENT: JOEL S. MOLLEL"
   ]
  },
  {
   "cell_type": "markdown",
   "id": "5f6be1f3-aa0c-4379-9bd4-3b79cdf2ee99",
   "metadata": {},
   "source": [
    "NUMBER: C00313599"
   ]
  },
  {
   "cell_type": "markdown",
   "id": "7bb9d882-616d-41db-80ca-f7e0dc5eff06",
   "metadata": {},
   "source": [
    "ALGORITHM: Naive Bayesian"
   ]
  },
  {
   "cell_type": "markdown",
   "id": "ae7228f4-1d1a-46bf-a497-bcdc619e37fc",
   "metadata": {},
   "source": [
    "STAGE 1: Making the given notebook work"
   ]
  },
  {
   "cell_type": "code",
   "execution_count": null,
   "id": "d6d19af2-8730-4160-b5f9-a2e5455f6cca",
   "metadata": {},
   "outputs": [],
   "source": [
    "%matplotlib inline\n",
    "import numpy as np\n",
    "import matplotlib.pyplot as plt\n",
    "import seaborn as sns"
   ]
  },
  {
   "cell_type": "markdown",
   "id": "563a9002-c476-477a-a23b-19e84368a774",
   "metadata": {},
   "source": [
    "plt.style.use('seaborn-whitegrid') - This plotting style is no longer available in Matplotlib!"
   ]
  },
  {
   "cell_type": "markdown",
   "id": "27a6c98a-3e9d-439a-9d6a-edddb4cc7548",
   "metadata": {},
   "source": [
    "I had to use print(plt.style.available) - to see all available plotting options. I picked 'seaborn-v0_8-whitegrid' as my style which is similar to the original one. You can change style by choosing one from the output of the line of code below."
   ]
  },
  {
   "cell_type": "code",
   "execution_count": null,
   "id": "b659224d-47a5-4350-a7ad-2961b9b8c294",
   "metadata": {},
   "outputs": [],
   "source": [
    "print(plt.style.available)"
   ]
  },
  {
   "cell_type": "code",
   "execution_count": null,
   "id": "5ea39e4a-773d-4fbd-924d-1ad8b3be28b3",
   "metadata": {},
   "outputs": [],
   "source": [
    "from sklearn.datasets import make_blobs\n",
    "X, y = make_blobs(100, 2, centers=2, random_state=2, cluster_std=1.5)\n",
    "plt.scatter(X[:, 0], X[:, 1], c=y, s=50, cmap='RdBu');"
   ]
  },
  {
   "cell_type": "markdown",
   "id": "ba789e99-1307-4188-8afa-08b10e52b928",
   "metadata": {},
   "source": [
    "STAGE 2: Adjustment of parameters and see how they affect the classification"
   ]
  },
  {
   "cell_type": "markdown",
   "id": "9a9016d9-7b4f-413b-bb58-b790e94b28ff",
   "metadata": {},
   "source": [
    "A: Clusters begin to overlap when their cluster centers are moved closer to each other. "
   ]
  },
  {
   "cell_type": "code",
   "execution_count": null,
   "id": "30fa7ab0-0eaa-4f7f-99b0-d620873b5561",
   "metadata": {},
   "outputs": [],
   "source": [
    "X, y = make_blobs(100, 2, centers=[(0, 0), (1, 1)], random_state=2, cluster_std=1.5)\n",
    "plt.scatter(X[:, 0], X[:, 1], c=y, s=50, cmap='RdBu')\n",
    "plt.show()"
   ]
  },
  {
   "cell_type": "markdown",
   "id": "a8d9bf29-0589-4b6a-9493-e1dab91c74d9",
   "metadata": {},
   "source": [
    "B: The more you raise the standard deviation, the clusters tend to overlap, the higher the degree of intersection between them."
   ]
  },
  {
   "cell_type": "code",
   "execution_count": null,
   "id": "ba7fbc62-f623-4d25-8a5b-188348081a37",
   "metadata": {},
   "outputs": [],
   "source": [
    "X, y = make_blobs(100, 2, centers=2, random_state=2, cluster_std=3)\n",
    "plt.scatter(X[:, 0], X[:, 1], c=y, s=50, cmap='RdBu')\n",
    "plt.show()"
   ]
  },
  {
   "cell_type": "markdown",
   "id": "4c644227-c351-4db3-977b-f487efe50f54",
   "metadata": {},
   "source": [
    "C: The more you reduce the standard deviation, the clusters tend to spread out, reducing the degree of intersection between them."
   ]
  },
  {
   "cell_type": "code",
   "execution_count": null,
   "id": "3b692237-548f-43e9-b98e-a85b5633d911",
   "metadata": {},
   "outputs": [],
   "source": [
    "X, y = make_blobs(100, 2, centers=2, random_state=2, cluster_std=1)\n",
    "plt.scatter(X[:, 0], X[:, 1], c=y, s=50, cmap='RdBu')\n",
    "plt.show()"
   ]
  },
  {
   "cell_type": "markdown",
   "id": "ae64ac8c-06d3-49c9-9ca6-56b2b21fbf0d",
   "metadata": {},
   "source": [
    "STAGE 3: Working on a new dataset"
   ]
  },
  {
   "cell_type": "code",
   "execution_count": null,
   "id": "0f6c93a3-3ff8-4b0b-8a2f-e3b3cedc708f",
   "metadata": {},
   "outputs": [],
   "source": []
  },
  {
   "cell_type": "markdown",
   "id": "d54fe1eb-ecd9-43ba-b735-2fca4d8bd626",
   "metadata": {},
   "source": [
    "The dataset data.csv is downloaded ftom Kaggle."
   ]
  },
  {
   "cell_type": "markdown",
   "id": "59e1d51d-2f4b-43f3-8732-c1b3eeb2c421",
   "metadata": {},
   "source": [
    "This dataset contains information about drug classification based on patient general information and its diagnosis. All patient are suffering from the same disease and the drug Machine learning model is needed in order to predict the outcome of the drugs type that might be suitable for the patient"
   ]
  },
  {
   "cell_type": "code",
   "execution_count": null,
   "id": "406c37b0-9a59-4dac-8d37-54ff9c1dded6",
   "metadata": {},
   "outputs": [],
   "source": [
    "import pandas as pd\n",
    "data = pd.read_csv('data.csv')\n",
    "df=pd.DataFrame(data)"
   ]
  },
  {
   "cell_type": "markdown",
   "id": "f6c3518f-89ac-4c75-8a4d-8e544ee2ea61",
   "metadata": {},
   "source": [
    "Looking for null cells, it appears to be all cells have values. Run code below"
   ]
  },
  {
   "cell_type": "code",
   "execution_count": null,
   "id": "cc887268-c761-4e06-9db5-09f333c56f24",
   "metadata": {},
   "outputs": [],
   "source": [
    "df.isna().sum().to_frame('isna').T"
   ]
  },
  {
   "cell_type": "markdown",
   "id": "6ec59bf5-c7ac-4e5b-b3c4-c49849f4e5ae",
   "metadata": {},
   "source": [
    "Getting the Dataframe data structure"
   ]
  },
  {
   "cell_type": "code",
   "execution_count": null,
   "id": "db2a4699-390b-4b05-8b58-534dcc37d47b",
   "metadata": {},
   "outputs": [],
   "source": [
    "df.info()"
   ]
  },
  {
   "cell_type": "code",
   "execution_count": null,
   "id": "d5637d8b-5498-41cf-92f7-ac4cd4e9a4aa",
   "metadata": {},
   "outputs": [],
   "source": []
  },
  {
   "cell_type": "code",
   "execution_count": null,
   "id": "0b482c55-bee8-4105-bc9b-af67e80d7018",
   "metadata": {},
   "outputs": [],
   "source": []
  },
  {
   "cell_type": "code",
   "execution_count": null,
   "id": "d1da8343-f01f-4404-ab3d-650c65b6be40",
   "metadata": {},
   "outputs": [],
   "source": [
    "# Import necessary libraries\n",
    "import pandas as pd\n",
    "from sklearn.model_selection import train_test_split\n",
    "from sklearn.preprocessing import LabelEncoder\n",
    "from sklearn.naive_bayes import GaussianNB\n",
    "import numpy as np\n",
    "\n",
    "# Load the dataset\n",
    "data = pd.read_csv('data.csv')\n",
    "\n",
    "# Encode categorical variables (Sex, BP, Cholesterol, Drug)\n",
    "le_sex = LabelEncoder()\n",
    "le_bp = LabelEncoder()\n",
    "le_cholesterol = LabelEncoder()\n",
    "le_drug = LabelEncoder()\n",
    "\n",
    "# Encode the categorical columns in the dataset\n",
    "data['Sex'] = le_sex.fit_transform(data['Sex'])\n",
    "data['BP'] = le_bp.fit_transform(data['BP'])\n",
    "data['Cholesterol'] = le_cholesterol.fit_transform(data['Cholesterol'])\n",
    "data['Drug'] = le_drug.fit_transform(data['Drug'])\n",
    "\n",
    "# Define features (X) and target (y)\n",
    "X = data[['Age', 'Sex', 'BP', 'Cholesterol', 'Na_to_K']]\n",
    "y = data['Drug']\n",
    "\n",
    "# Split the dataset into training and testing sets\n",
    "X_train, X_test, y_train, y_test = train_test_split(X, y, test_size=0.3, random_state=42)\n",
    "\n",
    "# Initialize the Naive Bayes classifier\n",
    "nb_classifier = GaussianNB()\n",
    "\n",
    "# Train the model\n",
    "nb_classifier.fit(X_train, y_train)\n",
    "\n",
    "# Function to prompt for input and predict drug type\n",
    "def predict_drug():\n",
    "    print(\"Welcome to South East Technological University Patient Prescription System\")\n",
    "    print(\"Dear doctor, please enter your patient's details as prompted by the system below\")\n",
    "    print(\"*\" * 20)\n",
    "\n",
    "    while True:  # Start a loop to continuously prompt for new entries\n",
    "        # Get input from user\n",
    "        age = int(input(\"Enter Age: \"))\n",
    "        sex = input(\"Enter Sex (M/F): \").upper()\n",
    "        bp = input(\"Enter BP (HIGH/NORMAL/LOW): \").upper()\n",
    "        cholesterol = input(\"Enter Cholesterol (HIGH/NORMAL): \").upper()\n",
    "        na_to_k = float(input(\"Enter Na_to_K value: \"))\n",
    "        \n",
    "        # Encode the input using the same label encoders used in training\n",
    "        sex_encoded = le_sex.transform([sex])[0]\n",
    "        bp_encoded = le_bp.transform([bp])[0]\n",
    "        cholesterol_encoded = le_cholesterol.transform([cholesterol])[0]\n",
    "        \n",
    "        # Create a pandas DataFrame for the input values with appropriate feature names\n",
    "        user_input = pd.DataFrame([[age, sex_encoded, bp_encoded, cholesterol_encoded, na_to_k]], \n",
    "                                  columns=['Age', 'Sex', 'BP', 'Cholesterol', 'Na_to_K'])\n",
    "        \n",
    "        # Predict the drug type\n",
    "        drug_pred_encoded = nb_classifier.predict(user_input)[0]\n",
    "        \n",
    "        # Decode the predicted drug type back to its original label\n",
    "        drug_pred = le_drug.inverse_transform([drug_pred_encoded])[0]\n",
    "        \n",
    "        print(f\"The predicted drug type is: {drug_pred}\")\n",
    "        \n",
    "        # Ask if the user wants to continue\n",
    "        continue_input = input(\"Do you want to enter details for another patient? (yes/no): \").lower()\n",
    "        if continue_input != 'yes':\n",
    "            print(\"Thank you for using the SETU prescription system. Goodbye!\")\n",
    "            break  # Exit the loop if the user doesn't want to continue\n",
    "\n",
    "# Call the function to prompt for input and predict\n",
    "predict_drug()\n"
   ]
  },
  {
   "cell_type": "code",
   "execution_count": null,
   "id": "e3bcfb32-2954-462c-ab93-1416c24396e9",
   "metadata": {},
   "outputs": [],
   "source": []
  },
  {
   "cell_type": "markdown",
   "id": "e4ddf3ac-1533-4ff8-bcff-8743c03e62bf",
   "metadata": {},
   "source": [
    "REFERENCES"
   ]
  },
  {
   "cell_type": "code",
   "execution_count": null,
   "id": "2621b9de-5780-48f4-a370-5d4755e8bf07",
   "metadata": {},
   "outputs": [],
   "source": [
    "Stanford Online. (2022). *Support Vector Machine (SVM) Explained - What Is The SVM Algorithm?*. *YouTube video*, added by Stanford Online [online]. Available at: <https://www.youtube.com/watch?v=lDwow4aOrtg> [Accessed 05 Feb. 2025].\n"
   ]
  },
  {
   "cell_type": "markdown",
   "id": "1bcec68c-9b97-46ca-9bc6-7311151a0637",
   "metadata": {},
   "source": [
    "Torabi, T., 2022. Drug Classification Dataset. [online] Available at: https://www.kaggle.com/datasets/taranomtorabi/drug200 [Accessed 20 February 2025].\n",
    "\n",
    "VanderPlas, J. (2016). Naive Bayes. GitHub repository, available at: https://github.com/jakevdp/PythonDataScienceHandbook/blob/master/notebooks/05.05-Naive-Bayes.ipynb [Accessed 13 Feb. 2025]."
   ]
  }
 ],
 "metadata": {
  "kernelspec": {
   "display_name": "Python 3 (ipykernel)",
   "language": "python",
   "name": "python3"
  },
  "language_info": {
   "codemirror_mode": {
    "name": "ipython",
    "version": 3
   },
   "file_extension": ".py",
   "mimetype": "text/x-python",
   "name": "python",
   "nbconvert_exporter": "python",
   "pygments_lexer": "ipython3",
   "version": "3.11.9"
  }
 },
 "nbformat": 4,
 "nbformat_minor": 5
}
