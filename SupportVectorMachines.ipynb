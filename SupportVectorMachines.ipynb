{
 "cells": [
  {
   "cell_type": "markdown",
   "id": "9c2cb722-322d-4cf9-aa55-86a0890453fe",
   "metadata": {},
   "source": [
    "STUDENT: Joel S. Mollel\n",
    "\n",
    "NUMBER: C00313599\n",
    "\n",
    "ALGORITHM: Support Vector Machines(SVM)"
   ]
  },
  {
   "cell_type": "markdown",
   "id": "778df023-9210-4e38-854f-f02063fba1c2",
   "metadata": {},
   "source": [
    "We will use the code where SVM is working as a classifier\n",
    "\n",
    "\n",
    "Provided with SVM Code, we are required to\n",
    "\n",
    "i) make sure it runs\n",
    "\n",
    "ii)Change some hyperparameters and see the impact\n",
    "\n",
    "iii)Use another dataset and perform other operations, and simulate as an app"
   ]
  },
  {
   "cell_type": "markdown",
   "id": "5e53dd54-90ff-4a41-aee7-9df88c105f8f",
   "metadata": {},
   "source": [
    "(i) Running the code\n",
    "\n",
    "=> The module did not run due to the deprication of the scikit-learn generator named sklearn.datasets.samples_generator, used in the code. This has been replaced by sklearn.datasets.make_blobs.\n",
    "See the code below, I have commented"
   ]
  },
  {
   "cell_type": "code",
   "execution_count": null,
   "id": "0bc27d9c-ff3e-467a-9a1f-8608d7d3ca04",
   "metadata": {},
   "outputs": [],
   "source": [
    "%matplotlib inline\n",
    "import numpy as np\n",
    "import matplotlib.pyplot as plt\n",
    "from scipy import stats\n",
    "import seaborn as sns; sns.set()\n",
    "\n",
    "from sklearn.datasets import make_blobs\n",
    "\n",
    "X, y = make_blobs(n_samples=50, centers=2,\n",
    "                  random_state=0, cluster_std=0.60)\n",
    "\n",
    "plt.scatter(X[:, 0], X[:, 1], c=y, s=50, cmap='autumn')\n",
    "plt.show()\n"
   ]
  },
  {
   "cell_type": "markdown",
   "id": "474532be-de3e-418b-804f-c2556c0a3ad6",
   "metadata": {},
   "source": [
    "(ii) Changing the hyperparameters, in this case i will focus on kernels\n",
    "\n",
    "I will use the following kernels values\n",
    "\n",
    "'linear', 'poly', 'rbf', 'sigmoid'\n",
    "\n",
    "Due to the nature of our data, all kernels produced similar results. This means my data is linearly separable or close to it. Run the code and see results."
   ]
  },
  {
   "cell_type": "code",
   "execution_count": null,
   "id": "f0455fe6-1310-45a6-a86c-890d04db11e9",
   "metadata": {},
   "outputs": [],
   "source": [
    "from sklearn.svm import SVC\n",
    "from sklearn.datasets import make_blobs\n",
    "import matplotlib.pyplot as plt\n",
    "\n",
    "X, y = make_blobs(n_samples=50, centers=2, random_state=0, cluster_std=0.60)\n",
    "\n",
    "\n",
    "kernels = ['linear', 'poly', 'rbf', 'sigmoid'] # I am trying different kernels\n",
    "\n",
    "for kernel in kernels:\n",
    "    \n",
    "    model = SVC(kernel=kernel)     # Instantiating the model with the kernel\n",
    "\n",
    "    # Now, Fitting  the model\n",
    "    model.fit(X, y)\n",
    "    \n",
    "    # then, we are plotting the decision boundary\n",
    "    plt.figure()\n",
    "    plt.scatter(X[:, 0], X[:, 1], c=y, s=50, cmap='autumn')\n",
    "    plt.title(f'SVM with {kernel} Kernel')\n",
    "    plt.show()\n"
   ]
  },
  {
   "cell_type": "code",
   "execution_count": null,
   "id": "1029f294-3f79-497b-9ca1-c402066e594f",
   "metadata": {},
   "outputs": [],
   "source": []
  },
  {
   "cell_type": "code",
   "execution_count": null,
   "id": "4cd5ab2f-a14f-4896-a563-1c33670567f1",
   "metadata": {},
   "outputs": [],
   "source": []
  },
  {
   "cell_type": "markdown",
   "id": "8a69f30d-2c48-4127-b4b8-9885fc208eb8",
   "metadata": {},
   "source": [
    "iii)Using another dataset and perform other operations, and simulate as an app\n",
    "\n",
    "I will use the dataset drug200.csv, our drug recommendation dataset. A drug to be prescribed to patient is predicted using parametes like age, weight,sex,BP, cholestrol, and Na-to-k\n"
   ]
  },
  {
   "cell_type": "markdown",
   "id": "b067e8af-f95d-4315-8bae-ac0511138b83",
   "metadata": {},
   "source": [
    "step1: Import the libraries and the dataset"
   ]
  },
  {
   "cell_type": "code",
   "execution_count": null,
   "id": "6ae4397b-8ee3-49c6-8acd-fbdf6df8b071",
   "metadata": {},
   "outputs": [],
   "source": [
    "import numpy as np\n",
    "import pandas as pd\n",
    "from sklearn.svm import SVC\n",
    "from sklearn.preprocessing import LabelEncoder\n",
    "from sklearn.model_selection import train_test_split\n",
    "\n",
    "df = pd.read_csv('drug200.csv')"
   ]
  },
  {
   "cell_type": "markdown",
   "id": "b7af5163-6e41-4189-8fde-646cf3027e70",
   "metadata": {},
   "source": [
    "step2: Encoding categorical features and target variable(Drug)"
   ]
  },
  {
   "cell_type": "code",
   "execution_count": null,
   "id": "dfb5b79f-936d-49e1-a5d3-b2f0bdbf2599",
   "metadata": {},
   "outputs": [],
   "source": [
    "\n",
    "label_encoders = {}\n",
    "for column in ['Sex', 'BP', 'Cholesterol']:  # features ('Sex', 'BP', 'Cholesterol')\n",
    "    le = LabelEncoder()\n",
    "    df[column] = le.fit_transform(df[column])\n",
    "    label_encoders[column] = le\n",
    "\n",
    "\n",
    "le_target = LabelEncoder()\n",
    "df['Drug'] = le_target.fit_transform(df['Drug']) # target variable (Drug)\n"
   ]
  },
  {
   "cell_type": "markdown",
   "id": "bc7de881-7c5d-4454-b760-3b7fa248d9ca",
   "metadata": {},
   "source": [
    "Step3: Defining features and target variable/label"
   ]
  },
  {
   "cell_type": "code",
   "execution_count": null,
   "id": "e7fa88d6-3917-40f3-8d98-d2e7bc4ebd73",
   "metadata": {},
   "outputs": [],
   "source": [
    "X = df[['Age', 'Sex', 'BP', 'Cholesterol', 'Na_to_K']].values \n",
    "y = df['Drug'].values  \n"
   ]
  },
  {
   "cell_type": "markdown",
   "id": "414b5462-63f4-4e1f-ab4b-513b1ea8e758",
   "metadata": {},
   "source": [
    "Step4: Splitting data into training (70%) and testing(30%) datasets"
   ]
  },
  {
   "cell_type": "code",
   "execution_count": null,
   "id": "0e770c42-c12d-40ca-99e0-e26f76fc8848",
   "metadata": {},
   "outputs": [],
   "source": [
    "X_train, X_test, y_train, y_test = train_test_split(X, y, test_size=0.3, random_state=42)\n",
    "\n",
    "kernels = ['linear', 'poly', 'rbf', 'sigmoid']  #  different kernels\n"
   ]
  },
  {
   "cell_type": "markdown",
   "id": "9e7c67c9-06d5-40e9-8edb-03e2c60acd26",
   "metadata": {},
   "source": [
    "Step5: Training the model and testing accuracy"
   ]
  },
  {
   "cell_type": "code",
   "execution_count": null,
   "id": "bfa1f1b3-68bc-4e40-8cb7-f81b6f9f687f",
   "metadata": {},
   "outputs": [],
   "source": [
    "\n",
    "for kernel in kernels:\n",
    "    model = SVC(kernel=kernel)  \n",
    "    model.fit(X_train, y_train) \n",
    "    \n",
    "    # Testing accuracy\n",
    "    accuracy = model.score(X_test, y_test)\n",
    "    print(f'Accuracy for {kernel} kernel: {accuracy:.4f}')"
   ]
  },
  {
   "cell_type": "code",
   "execution_count": null,
   "id": "9d571e13-7ed1-4822-a6cf-575812b89db0",
   "metadata": {},
   "outputs": [],
   "source": []
  },
  {
   "cell_type": "markdown",
   "id": "29f0d22e-9eb4-4177-9c9b-3f3dd7920fe1",
   "metadata": {},
   "source": [
    "Simple app\n",
    "\n",
    "==> Now Prompting user input for flexibility in testing the model\n",
    "\n",
    "Repeating the same code in addition to lines that will be prompting user input"
   ]
  },
  {
   "cell_type": "markdown",
   "id": "dff33f12-f021-4830-9739-457c63494028",
   "metadata": {},
   "source": [
    "step1: Importing libraries and dataset"
   ]
  },
  {
   "cell_type": "code",
   "execution_count": null,
   "id": "4539cd2f-1cfc-4f3a-826a-2d6c627ebece",
   "metadata": {},
   "outputs": [],
   "source": [
    "import pandas as pd\n",
    "from sklearn.svm import SVC\n",
    "from sklearn.model_selection import train_test_split\n",
    "from sklearn.preprocessing import LabelEncoder\n",
    "\n",
    "data = pd.read_csv('drug200.csv')"
   ]
  },
  {
   "cell_type": "markdown",
   "id": "1f66d830-8573-42ed-bf34-e62fbb6a4cc5",
   "metadata": {},
   "source": [
    "step2: Processing the data, declaration of features and target"
   ]
  },
  {
   "cell_type": "code",
   "execution_count": null,
   "id": "39619a8d-bcd9-4012-a040-c52cad464a93",
   "metadata": {},
   "outputs": [],
   "source": [
    "X = data[['Age', 'Sex', 'BP', 'Cholesterol', 'Na_to_K']]  # Features\n",
    "y = data['Drug']  # Target"
   ]
  },
  {
   "cell_type": "markdown",
   "id": "b01b5934-0953-4904-b053-60ce38356eaf",
   "metadata": {},
   "source": [
    "step3: Encoding the categorical columns"
   ]
  },
  {
   "cell_type": "code",
   "execution_count": null,
   "id": "3848fdf8-c45f-45ab-a9ba-e004b0d18f41",
   "metadata": {},
   "outputs": [],
   "source": [
    "label_encoder_sex = LabelEncoder()\n",
    "X.loc[:, 'Sex'] = label_encoder_sex.fit_transform(X['Sex'])  # make F = 0, M = 1\n",
    "\n",
    "label_encoder_bp = LabelEncoder()\n",
    "X.loc[:, 'BP'] = label_encoder_bp.fit_transform(X['BP'])  # make  LOW = 0, NORMAL = 1, HIGH = 2\n",
    "\n",
    "label_encoder_cholesterol = LabelEncoder()\n",
    "X.loc[:, 'Cholesterol'] = label_encoder_cholesterol.fit_transform(X['Cholesterol'])  # make NORMAL = 0, HIGH = 1"
   ]
  },
  {
   "cell_type": "markdown",
   "id": "34b3a1c1-3bee-43b7-9444-3ddd9770b311",
   "metadata": {},
   "source": [
    "step4: Splitting the dataset, 70% training and 30% testing datasets"
   ]
  },
  {
   "cell_type": "code",
   "execution_count": null,
   "id": "112f135e-57ec-4f11-b21f-6659146c67c1",
   "metadata": {},
   "outputs": [],
   "source": [
    "X_train, X_test, y_train, y_test = train_test_split(X, y, test_size=0.3, random_state=42)"
   ]
  },
  {
   "cell_type": "markdown",
   "id": "19637ce3-b99f-4643-a6e5-09988bedd516",
   "metadata": {},
   "source": [
    "step5: train the model and prompt user input, encode the inputs and predict the drug\n",
    "\n",
    "We will use Linear kernel because it is the one that had best performance in our model test with the accuracy of 0.9833"
   ]
  },
  {
   "cell_type": "code",
   "execution_count": null,
   "id": "fc1bba54-aab4-4602-959b-c514f2e3c37d",
   "metadata": {},
   "outputs": [],
   "source": [
    "model = SVC(kernel='linear', C=1.0)\n",
    "model.fit(X_train, y_train)\n",
    "\n",
    "print(\"Enter the following details to predict the drug type:\")\n",
    "\n",
    "age = float(input(\"Age: \"))\n",
    "sex = input(\"Sex (M/F): \").strip().upper()  \n",
    "bp = input(\"Blood Pressure (LOW, NORMAL, HIGH): \").strip()\n",
    "cholesterol = input(\"Cholesterol (NORMAL, HIGH): \").strip()\n",
    "na_to_k = float(input(\"Sodium to Potassium Ratio (Na_to_K): \"))\n",
    "\n",
    "if sex not in ['M', 'F']:\n",
    "    print(\"Invalid input for sex! Please enter M or F.\")\n",
    "    sex = 'M'  \n",
    "if bp not in ['LOW', 'NORMAL', 'HIGH']:\n",
    "    print(\"Invalid input for Blood Pressure! Defaulting to NORMAL.\")\n",
    "    bp = 'NORMAL'  \n",
    "if cholesterol not in ['NORMAL', 'HIGH']:\n",
    "    print(\"Invalid input for Cholesterol! Defaulting to NORMAL.\")\n",
    "    cholesterol = 'NORMAL'  \n",
    "    \n",
    "sex = label_encoder_sex.transform([sex])[0]   ##transformation starts\n",
    "bp = label_encoder_bp.transform([bp])[0]\n",
    "cholesterol = label_encoder_cholesterol.transform([cholesterol])[0]\n",
    "\n",
    "input_data = pd.DataFrame([[age, sex, bp, cholesterol, na_to_k]], columns=['Age', 'Sex', 'BP', 'Cholesterol', 'Na_to_K'])\n",
    "\n",
    "predicted_drug = model.predict(input_data)\n",
    "\n",
    "print(f\"Predicted drug: {predicted_drug[0]}\")\n"
   ]
  },
  {
   "cell_type": "code",
   "execution_count": null,
   "id": "0b741257-d1d0-4d33-bfbd-064a249b6add",
   "metadata": {},
   "outputs": [],
   "source": []
  }
 ],
 "metadata": {
  "kernelspec": {
   "display_name": "Python 3 (ipykernel)",
   "language": "python",
   "name": "python3"
  },
  "language_info": {
   "codemirror_mode": {
    "name": "ipython",
    "version": 3
   },
   "file_extension": ".py",
   "mimetype": "text/x-python",
   "name": "python",
   "nbconvert_exporter": "python",
   "pygments_lexer": "ipython3",
   "version": "3.11.9"
  }
 },
 "nbformat": 4,
 "nbformat_minor": 5
}
