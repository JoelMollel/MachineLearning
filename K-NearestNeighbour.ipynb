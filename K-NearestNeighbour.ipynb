{
 "cells": [
  {
   "cell_type": "markdown",
   "id": "2087b988-6fe9-4c3d-bb78-8749ab2ed64d",
   "metadata": {},
   "source": [
    "STUDENT: Joel S. Mollel\n",
    "\n",
    "NUMBER: C00313599\n",
    "\n",
    "ALGORITHM: K-Nearest Neighbour\n"
   ]
  },
  {
   "cell_type": "markdown",
   "id": "547739b6-8707-485d-aaa5-1d7d35e4ca35",
   "metadata": {},
   "source": [
    "Provided with K-Nearest neighbour Code, we are required to\n",
    "\n",
    "i) make sure it run\n",
    "\n",
    "ii)Use another dataset and perform other operations\n",
    "\n",
    "iii)Change some number of features and see the impact\n",
    "\n",
    "iv) Simulate as an app\n"
   ]
  },
  {
   "cell_type": "markdown",
   "id": "5515080f-674a-402f-80c9-d6fa20c4da67",
   "metadata": {},
   "source": [
    "(i) Making the code running\n",
    "After combining the code from the page it worked, trained the model and calculated accuracy"
   ]
  },
  {
   "cell_type": "code",
   "execution_count": null,
   "id": "aec58af1-bfeb-4541-af04-f64eac17b2f7",
   "metadata": {},
   "outputs": [],
   "source": [
    "import numpy as np\n",
    "import pandas as pd\n",
    "from sklearn.neighbors import KNeighborsClassifier\n",
    "from sklearn.model_selection import train_test_split\n",
    "import matplotlib.pyplot as plt\n",
    "\n",
    "# Function to get the design matrix (features) X\n",
    "def get_X(data):\n",
    "    \"\"\"Return model design matrix X\"\"\"\n",
    "    return data.filter(like='X').values\n",
    "\n",
    "# Function to get the target variable y\n",
    "def get_y(data):\n",
    "    \"\"\"Return dependent variable y\"\"\"\n",
    "    y = data.Close.pct_change(48).shift(-48)  # Returns after roughly two days\n",
    "    y[y.between(-.004, .004)] = 0             # Devalue returns smaller than 0.4%\n",
    "    y[y > 0] = 1\n",
    "    y[y < 0] = -1\n",
    "    return y\n",
    "\n",
    "# Function to clean X and y (remove NaNs)\n",
    "def get_clean_Xy(df):\n",
    "    \"\"\"Return (X, y) cleaned of NaN values\"\"\"\n",
    "    X = get_X(df)\n",
    "    y = get_y(df).values\n",
    "    isnan = np.isnan(y)\n",
    "    X = X[~isnan]\n",
    "    y = y[~isnan]\n",
    "    return X, y\n",
    "\n",
    "# Simulate some sample data (you would replace this with your real data)\n",
    "# Assuming that the data contains columns like 'X1', 'X2', 'Close', etc.\n",
    "np.random.seed(0)\n",
    "data = pd.DataFrame({\n",
    "    'X1': np.random.rand(1000),\n",
    "    'X2': np.random.rand(1000),\n",
    "    'Close': np.random.rand(1000) * 100  # Simulating a 'Close' price column\n",
    "})\n",
    "\n",
    "# Get cleaned X and y\n",
    "X, y = get_clean_Xy(data)\n",
    "\n",
    "# Split data into training and test sets (50% split)\n",
    "X_train, X_test, y_train, y_test = train_test_split(X, y, test_size=0.5, random_state=0)\n",
    "\n",
    "# Initialize and train the k-NN classifier with 7 neighbors\n",
    "clf = KNeighborsClassifier(7)\n",
    "clf.fit(X_train, y_train)\n",
    "\n",
    "# Predict the test set\n",
    "y_pred = clf.predict(X_test)\n",
    "\n",
    "# Plot true vs predicted values\n",
    "_ = pd.DataFrame({'y_true': y_test, 'y_pred': y_pred}).plot(figsize=(15, 2), alpha=0.7)\n",
    "plt.show()\n",
    "\n",
    "# Print classification accuracy\n",
    "print('Classification accuracy: ', np.mean(y_test == y_pred))\n"
   ]
  },
  {
   "cell_type": "code",
   "execution_count": null,
   "id": "36ec1ce3-47cd-4a97-ac42-12c7f370f4fd",
   "metadata": {},
   "outputs": [],
   "source": []
  },
  {
   "cell_type": "markdown",
   "id": "a5c8f729-91ec-434b-87c0-ad1be00134e7",
   "metadata": {},
   "source": [
    "(ii) Using another dataset and perform operations related to KNN work"
   ]
  },
  {
   "cell_type": "markdown",
   "id": "95e683f7-43e2-4368-99eb-a0558177938c",
   "metadata": {},
   "source": [
    "The Tesla Stock historical data from 2010 to December 31, 2024 is going to be used for this project to visualize the trends of opening and closing price of Tesla stock over a period of time"
   ]
  },
  {
   "cell_type": "markdown",
   "id": "61963747-f0e9-425c-b86c-a13249fe5556",
   "metadata": {},
   "source": [
    "Steps taken:\n",
    "1. I installed all the required libraries including Yahoo Finance"
   ]
  },
  {
   "cell_type": "markdown",
   "id": "19ef5517-7c1a-4c1a-a248-2e259a542e3b",
   "metadata": {},
   "source": [
    "All the libraries are then imported"
   ]
  },
  {
   "cell_type": "code",
   "execution_count": null,
   "id": "d0662f32-c647-4310-8fa5-db03ad5e9e9f",
   "metadata": {},
   "outputs": [],
   "source": [
    "import yfinance as yf\n",
    "import numpy as np\n",
    "import pandas as pd\n",
    "from sklearn.neighbors import KNeighborsClassifier\n",
    "from sklearn.model_selection import train_test_split\n",
    "import matplotlib.pyplot as plt\n",
    "from sklearn.preprocessing import StandardScaler\n"
   ]
  },
  {
   "cell_type": "markdown",
   "id": "2f9ec9a3-f6a3-40cd-ad2c-eab96e05d649",
   "metadata": {},
   "source": [
    "step2: Fetching the TESLA stock data from yfinance and observe the first few rows "
   ]
  },
  {
   "cell_type": "code",
   "execution_count": null,
   "id": "b3b9d2ad-1ccc-4262-b35e-5dea9ab77fa6",
   "metadata": {},
   "outputs": [],
   "source": [
    "import yfinance as yf\n",
    "\n",
    "# Example: Fetch stock data for Apple (AAPL)\n",
    "data = yf.download(\"TSLA\", start=\"2010-01-01\", end=\"2025-01-01\")\n",
    "print(data.head())"
   ]
  },
  {
   "cell_type": "markdown",
   "id": "963e1460-805d-4a15-a94f-e9ae83c72891",
   "metadata": {},
   "source": [
    "step3: Feature Engineering- making lagged features (using previous day's data)"
   ]
  },
  {
   "cell_type": "code",
   "execution_count": null,
   "id": "17669a45-a5c3-49dd-9d2d-aecdab749830",
   "metadata": {},
   "outputs": [],
   "source": [
    "data['lag_close'] = data['Close'].shift(1)\n",
    "data['lag_open'] = data['Open'].shift(1)\n",
    "data['lag_high'] = data['High'].shift(1)\n",
    "data['lag_low'] = data['Low'].shift(1)\n",
    "data['lag_volume'] = data['Volume'].shift(1)"
   ]
  },
  {
   "cell_type": "markdown",
   "id": "24d457a5-4804-46bf-9937-949ee30ea114",
   "metadata": {},
   "source": [
    "Step4: Data Cleaning - Dropping NaN"
   ]
  },
  {
   "cell_type": "code",
   "execution_count": null,
   "id": "734a7034-c342-4b0b-a208-d0cae7863e32",
   "metadata": {},
   "outputs": [],
   "source": [
    "data.dropna(inplace=True)"
   ]
  },
  {
   "cell_type": "markdown",
   "id": "3a25e22e-9d38-41e5-a0e2-e669e4b02c6f",
   "metadata": {},
   "source": [
    "Step5: Creating feature matrix, no target variable required"
   ]
  },
  {
   "cell_type": "code",
   "execution_count": null,
   "id": "49f3da26-ad56-4695-bbee-e67bacb3e2bb",
   "metadata": {},
   "outputs": [],
   "source": [
    "X = data[['lag_close', 'lag_open', 'lag_high', 'lag_low', 'lag_volume']].values"
   ]
  },
  {
   "cell_type": "markdown",
   "id": "3995cb66-64fb-49b6-8c4d-fe628b15b139",
   "metadata": {},
   "source": [
    "Step 6: Feature Scaling to normalize the data"
   ]
  },
  {
   "cell_type": "code",
   "execution_count": null,
   "id": "d45d3ddd-3dd6-4d8c-8d9b-68bf9ef81399",
   "metadata": {},
   "outputs": [],
   "source": [
    "scaler = StandardScaler()\n",
    "X_scaled = scaler.fit_transform(X)"
   ]
  },
  {
   "cell_type": "code",
   "execution_count": null,
   "id": "d0a715b5-8a2c-4b2f-aeed-2a44da7f8c35",
   "metadata": {},
   "outputs": [],
   "source": [
    "ticker=\"TSLA\"\n",
    "plt.figure(figsize=(10, 6)) #Size of the figure\n",
    "\n",
    "plt.plot(data.index, data['Open'], label='Open Price', color='green') \n",
    "plt.plot(data.index, data['Close'], label='Close Price', color='blue', alpha=0.4)\n",
    "\n",
    "plt.title(f'{ticker} Stock Price(Opening and Closing price) Over Time') #Labels\n",
    "plt.xlabel('Date')\n",
    "plt.ylabel('Stock Price (USD)')\n",
    "plt.legend()\n",
    "plt.grid(True)\n",
    "plt.show()\n"
   ]
  },
  {
   "cell_type": "markdown",
   "id": "2c2b426f-f131-430e-b703-f22e840e33b9",
   "metadata": {},
   "source": [
    "iii) Change number of features to see how the impact model performance"
   ]
  },
  {
   "cell_type": "markdown",
   "id": "7f834649-30bc-47d5-a9b7-6425f745f03c",
   "metadata": {},
   "source": [
    "==> In this case more features gave more accuracy than the two features\n",
    "In predicting close price, Open Price and volume features were used but with the Mean Squared Error: 138.64782553698436 and\n",
    "Mean Absolute Error: 8.531002985044966. When 'Open', 'Volume', 'High', 'Low', and 'Close' features were used, the significant improvement was observed with Mean Squared Error: 84.09050306528196 and Mean Absolute Error: 1.804469963522518\n",
    "\n",
    "\n",
    "Mean Squared Error: \n",
    "Mean Absolute Error: 5.986933045185053"
   ]
  },
  {
   "cell_type": "markdown",
   "id": "074e30ad-b290-4425-bb36-b119ea4e5a1a",
   "metadata": {},
   "source": [
    "a) Libraries"
   ]
  },
  {
   "cell_type": "code",
   "execution_count": null,
   "id": "3c2b8ef0-e74d-4509-b524-511afb52e138",
   "metadata": {},
   "outputs": [],
   "source": [
    "from sklearn.neighbors import KNeighborsRegressor\n",
    "from sklearn.preprocessing import MinMaxScaler\n",
    "from sklearn.model_selection import train_test_split\n",
    "from sklearn.metrics import mean_squared_error, mean_absolute_error"
   ]
  },
  {
   "cell_type": "markdown",
   "id": "858939bb-e283-406a-b071-d1ffe5356b9f",
   "metadata": {},
   "source": [
    "b) Loading Tesla dataset"
   ]
  },
  {
   "cell_type": "code",
   "execution_count": null,
   "id": "2c6ad5d0-0210-4dab-a1a3-4758e52987cb",
   "metadata": {},
   "outputs": [],
   "source": [
    "ticker = 'TSLA'\n",
    "data = yf.download(ticker, start='2000-01-01', end='2024-12-31')"
   ]
  },
  {
   "cell_type": "markdown",
   "id": "b9b0e70a-9b33-48b0-a96f-daa44097239e",
   "metadata": {},
   "source": [
    "c) Feature selection, target declaration and scalling all features \n",
    "Open price and Volume features are selected"
   ]
  },
  {
   "cell_type": "code",
   "execution_count": null,
   "id": "a543574e-d97e-406a-8c44-eef165bd3d73",
   "metadata": {},
   "outputs": [],
   "source": [
    "features = data[['Open', 'Volume']]\n",
    "target = data['Close']\n",
    "\n",
    "scaler = MinMaxScaler()\n",
    "features_scaled = scaler.fit_transform(features)\n"
   ]
  },
  {
   "cell_type": "markdown",
   "id": "ae3f3e6c-1143-420d-b130-d62c6d7cca6c",
   "metadata": {},
   "source": [
    "d) Splitting data into training(80%) and testing (20%)"
   ]
  },
  {
   "cell_type": "code",
   "execution_count": null,
   "id": "d0b3332a-b331-4605-bcda-5d181eb84f84",
   "metadata": {},
   "outputs": [],
   "source": [
    "X_train, X_test, y_train, y_test = train_test_split(features_scaled, target, test_size=0.2, shuffle=False)\n"
   ]
  },
  {
   "cell_type": "markdown",
   "id": "cf8997ce-effa-4b36-99a6-cbb8166b9c31",
   "metadata": {},
   "source": [
    "e) Training the module with number of neighbours =5 and running the predictions"
   ]
  },
  {
   "cell_type": "code",
   "execution_count": null,
   "id": "e096de14-4e3b-4bbf-9c76-972c20db5772",
   "metadata": {},
   "outputs": [],
   "source": [
    "knn = KNeighborsRegressor(n_neighbors=5)\n",
    "knn.fit(X_train, y_train)\n",
    "\n",
    "predictions = knn.predict(X_test)"
   ]
  },
  {
   "cell_type": "markdown",
   "id": "b222052b-2ada-4a93-b9c3-8060ea682909",
   "metadata": {},
   "source": [
    "f) Finding MSE and MAE and printing"
   ]
  },
  {
   "cell_type": "code",
   "execution_count": null,
   "id": "ae596b2b-adfd-4c84-a6ed-5f623ed5365b",
   "metadata": {},
   "outputs": [],
   "source": [
    "mse = mean_squared_error(y_test, predictions)\n",
    "mae = mean_absolute_error(y_test, predictions)\n",
    "print(f'Mean Squared Error: {mse}')\n",
    "print(f'Mean Absolute Error: {mae}')"
   ]
  },
  {
   "cell_type": "markdown",
   "id": "470adb1a-4eff-4538-aa62-610d97e338c2",
   "metadata": {},
   "source": [
    "g) Plotting Actual vs Predicted stock prices"
   ]
  },
  {
   "cell_type": "code",
   "execution_count": null,
   "id": "b9a7acda-03b1-4357-9336-1d68f0339861",
   "metadata": {},
   "outputs": [],
   "source": []
  },
  {
   "cell_type": "code",
   "execution_count": null,
   "id": "36130575-5c7f-4eb6-9468-8f461dc23fa9",
   "metadata": {},
   "outputs": [],
   "source": [
    "plt.figure(figsize=(10, 6))\n",
    "plt.plot(y_test.index, y_test, label='Actual', color='blue')\n",
    "plt.plot(y_test.index, predictions, label='Predicted', color='red', linestyle='dashed')\n",
    "plt.title('KNN Prediction of Tesla Stock Prices (Open, Volume as Features)')\n",
    "plt.xlabel('Date')\n",
    "plt.ylabel('Stock Price (USD)')\n",
    "plt.legend()\n",
    "plt.grid(True)\n",
    "plt.show()"
   ]
  },
  {
   "cell_type": "code",
   "execution_count": null,
   "id": "795c160c-2a08-4b13-9e1b-c5cdf3940374",
   "metadata": {},
   "outputs": [],
   "source": [
    "\n"
   ]
  },
  {
   "cell_type": "markdown",
   "id": "670e8e6d-04ea-4e0c-979f-77839a0db1fd",
   "metadata": {},
   "source": [
    "==> Increasing the number of features and see the impact improved accuracy by reducing Mean Absolute Error and Mean Standard Error\n",
    "\n",
    "Features selected now are Open price, Volume, High, Low and Close price and the goal is to find close price"
   ]
  },
  {
   "cell_type": "markdown",
   "id": "84e42ee9-8b21-4d5c-b4b6-a49112379787",
   "metadata": {},
   "source": [
    "Declaration and scaling of features"
   ]
  },
  {
   "cell_type": "code",
   "execution_count": null,
   "id": "25d69c5f-71cc-4326-a3f6-6b0f40aebeeb",
   "metadata": {},
   "outputs": [],
   "source": [
    "features2 = data[['Open', 'Volume', 'High', 'Low', 'Close']]\n",
    "target = data['Close']\n",
    "\n",
    "scaler = StandardScaler()\n",
    "features_scaled = scaler.fit_transform(features2)"
   ]
  },
  {
   "cell_type": "markdown",
   "id": "0e81c621-6d8a-4847-936c-b9dc5bbda3cc",
   "metadata": {},
   "source": [
    "Training(80%) and testing(20%) splitting"
   ]
  },
  {
   "cell_type": "code",
   "execution_count": null,
   "id": "4769065d-e135-4239-8d4f-dd8f8c6195f5",
   "metadata": {},
   "outputs": [],
   "source": [
    "X_train, X_test, y_train, y_test = train_test_split(features_scaled, target, test_size=0.2, shuffle=False)"
   ]
  },
  {
   "cell_type": "markdown",
   "id": "20b030b2-0a5a-4cfc-b0bf-d374e6ae5098",
   "metadata": {},
   "source": [
    "Applying KNN Regression on the training set"
   ]
  },
  {
   "cell_type": "code",
   "execution_count": null,
   "id": "ddb840b8-107b-46e7-96b2-f8284c792c60",
   "metadata": {},
   "outputs": [],
   "source": [
    "knn = KNeighborsRegressor(n_neighbors=5)\n",
    "knn.fit(X_train, y_train)"
   ]
  },
  {
   "cell_type": "markdown",
   "id": "62eb7e2e-a545-4a8c-b0f4-46a79c7e43de",
   "metadata": {},
   "source": [
    "Performing predictions and evaluation of performance"
   ]
  },
  {
   "cell_type": "code",
   "execution_count": null,
   "id": "6e9d116a-df38-48a9-bd77-ae200e389042",
   "metadata": {},
   "outputs": [],
   "source": [
    "predictions = knn.predict(X_test)\n",
    "\n",
    "mse = mean_squared_error(y_test, predictions)\n",
    "mae = mean_absolute_error(y_test, predictions)\n",
    "print(f'Mean Squared Error: {mse}')\n",
    "print(f'Mean Absolute Error: {mae}')"
   ]
  },
  {
   "cell_type": "markdown",
   "id": "753fca6a-11c8-4b63-a5b5-0e82635fcf7a",
   "metadata": {},
   "source": [
    "Plotting the graph"
   ]
  },
  {
   "cell_type": "code",
   "execution_count": null,
   "id": "9501335d-3aab-4601-b535-6a9b42c3a066",
   "metadata": {},
   "outputs": [],
   "source": [
    "plt.figure(figsize=(10, 6))\n",
    "plt.plot(y_test.index, y_test, label='Actual', color='blue')\n",
    "plt.plot(y_test.index, predictions, label='Predicted', color='red', linestyle='dashed')\n",
    "plt.title(\"Stock Price Prediction using KNN with features 'Open', 'Volume', 'High', 'Low', 'Close'\")\n",
    "plt.xlabel('Date')\n",
    "plt.ylabel('Stock Price (USD)')\n",
    "plt.legend()\n",
    "plt.grid(True)\n",
    "plt.show()"
   ]
  },
  {
   "cell_type": "code",
   "execution_count": null,
   "id": "3a33dee0-36c9-49c7-bf5e-5ccfffe2c015",
   "metadata": {},
   "outputs": [],
   "source": []
  },
  {
   "cell_type": "markdown",
   "id": "cb68e54d-73ac-4e1e-9c46-ec636c363ee5",
   "metadata": {},
   "source": [
    "iv) Prompting User input for customized predictions - Real life application"
   ]
  },
  {
   "cell_type": "markdown",
   "id": "e1af084f-6aab-42c9-b9f7-50b498626480",
   "metadata": {},
   "source": [
    "==> Libraries and dataset import"
   ]
  },
  {
   "cell_type": "code",
   "execution_count": null,
   "id": "b9ec1063-fc33-4c7c-ac11-5ab783bd0e52",
   "metadata": {},
   "outputs": [],
   "source": [
    "import yfinance as yf\n",
    "import matplotlib.pyplot as plt\n",
    "from sklearn.neighbors import KNeighborsRegressor\n",
    "from sklearn.preprocessing import MinMaxScaler\n",
    "from sklearn.model_selection import train_test_split\n",
    "\n",
    "ticker = 'TSLA'\n",
    "data = yf.download(ticker, start='2000-01-01', end='2024-12-31')"
   ]
  },
  {
   "cell_type": "markdown",
   "id": "ffff8ee9-4319-4a82-80fb-531d6da0402a",
   "metadata": {},
   "source": [
    "==> Declaration and scalling of features to predict \"Close\" price"
   ]
  },
  {
   "cell_type": "code",
   "execution_count": null,
   "id": "1007f431-fb78-4f87-aa94-7e07a8ada740",
   "metadata": {},
   "outputs": [],
   "source": [
    "features = data[['Open', 'Volume', 'High', 'Low', 'Close']]  # All 5 features\n",
    "target = data['Close']  # Target is 'Close'\n",
    "\n",
    "scaler = StandardScaler()\n",
    "features_scaled = scaler.fit_transform(features)"
   ]
  },
  {
   "cell_type": "markdown",
   "id": "c7a06f34-ec65-4438-98d8-fb93927c7d67",
   "metadata": {},
   "source": [
    "==> Splitting data into training (80%) and testing(20%) datasets"
   ]
  },
  {
   "cell_type": "code",
   "execution_count": null,
   "id": "ed74f988-45d2-44b7-9f7f-034c826727e2",
   "metadata": {},
   "outputs": [],
   "source": [
    "X_train, X_test, y_train, y_test = train_test_split(features_scaled[:, :4], target, test_size=0.2, shuffle=False)"
   ]
  },
  {
   "cell_type": "markdown",
   "id": "fe292954-0b54-441c-9716-819875f4c57e",
   "metadata": {},
   "source": [
    "==> Train the KNN Regression Model using the training dataset"
   ]
  },
  {
   "cell_type": "code",
   "execution_count": null,
   "id": "204cb32e-e302-4948-8d24-8f69a47e7435",
   "metadata": {},
   "outputs": [],
   "source": [
    "knn = KNeighborsRegressor(n_neighbors=5)\n",
    "knn.fit(X_train, y_train)"
   ]
  },
  {
   "cell_type": "markdown",
   "id": "d15f331b-be71-41ab-bad3-a0e910fc651a",
   "metadata": {},
   "source": [
    "==> Performing predictions using the test set"
   ]
  },
  {
   "cell_type": "code",
   "execution_count": null,
   "id": "5a83f85d-219e-41d4-89b4-dc5bf4a20866",
   "metadata": {},
   "outputs": [],
   "source": [
    "predictions = knn.predict(X_test)"
   ]
  },
  {
   "cell_type": "code",
   "execution_count": null,
   "id": "ffe80aa4-c426-416d-b975-a1c0ba916c43",
   "metadata": {},
   "outputs": [],
   "source": [
    "# Evaluate Model Performance\n",
    "mse = mean_squared_error(y_test, predictions)\n",
    "mae = mean_absolute_error(y_test, predictions)\n",
    "print(f'Mean Squared Error: {mse}')\n",
    "print(f'Mean Absolute Error: {mae}')"
   ]
  },
  {
   "cell_type": "markdown",
   "id": "a943d78b-711f-451f-9982-d2dca6b36dc4",
   "metadata": {},
   "source": [
    "==> Prompt user input and predict the Close Price"
   ]
  },
  {
   "cell_type": "code",
   "execution_count": null,
   "id": "ac1394de-f44d-43e5-83ac-230d6dff5d4c",
   "metadata": {},
   "outputs": [],
   "source": [
    "def predict_stock_price():\n",
    "    print(\"Please enter the following details to predict the stock price:\")\n",
    "\n",
    "    open_price = float(input(\"Enter the Open price: \"))\n",
    "    volume = int(input(\"Enter the Volume: \"))\n",
    "    high_price = float(input(\"Enter the High price: \"))\n",
    "    low_price = float(input(\"Enter the Low price: \"))\n",
    "\n",
    "    scaled_input = scaler.transform([[open_price, volume, high_price, low_price, 0]])[:, :4]\n",
    "\n",
    "    predicted_close = knn.predict(scaled_input)\n",
    "\n",
    "    print(f\"Predicted Stock Close Price is ${predicted_close.item():.2f}\")\n",
    "\n",
    "    return open_price, volume, high_price, low_price\n",
    "\n",
    "open_price, volume, high_price, low_price = predict_stock_price()\n",
    "\n",
    "plt.figure(figsize=(10, 6))\n",
    "plt.plot(y_test.index, y_test, label='Actual', color='blue')\n",
    "plt.plot(y_test.index, predictions, label='Predicted', color='red', linestyle='dashed')\n",
    "plt.title(f'KNN Prediction of Tesla Stock Prices using Open: ${open_price}, Volume: {volume}, High: ${high_price}, Low: ${low_price}')\n",
    "plt.xlabel('Date')\n",
    "plt.ylabel('Stock Price (USD)')\n",
    "plt.legend()\n",
    "plt.grid(True)\n",
    "plt.show()\n"
   ]
  }
 ],
 "metadata": {
  "kernelspec": {
   "display_name": "Python 3 (ipykernel)",
   "language": "python",
   "name": "python3"
  },
  "language_info": {
   "codemirror_mode": {
    "name": "ipython",
    "version": 3
   },
   "file_extension": ".py",
   "mimetype": "text/x-python",
   "name": "python",
   "nbconvert_exporter": "python",
   "pygments_lexer": "ipython3",
   "version": "3.11.9"
  }
 },
 "nbformat": 4,
 "nbformat_minor": 5
}
