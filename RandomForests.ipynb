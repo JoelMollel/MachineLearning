{
 "cells": [
  {
   "cell_type": "markdown",
   "id": "522bbf08-60ab-452a-9c02-a00ea5c6f300",
   "metadata": {},
   "source": [
    "Student: Joel S. Mollel\n",
    "\n",
    "Number: C00313599\n",
    "\n",
    "Algorithm: Random Forest"
   ]
  },
  {
   "cell_type": "markdown",
   "id": "a9808824-d7cf-4cf1-b25d-19e57c8e220f",
   "metadata": {},
   "source": [
    "Provided with Random Forest Regression Code, we are required to\n",
    "\n",
    "i) make sure it runs\n",
    "\n",
    "ii)Change some hyperparameters and see the impact\n",
    "\n",
    "iii) Use another dataset and perform other operations, and simulate as an app"
   ]
  },
  {
   "cell_type": "markdown",
   "id": "d008372b-31e7-476d-b12d-3a1e8a330021",
   "metadata": {},
   "source": [
    "(i)The code provided did run after the installation of the appropriate libraries"
   ]
  },
  {
   "cell_type": "code",
   "execution_count": null,
   "id": "cc929573-486f-4c5c-bace-377dceece325",
   "metadata": {},
   "outputs": [],
   "source": [
    "import numpy as np\n",
    "import matplotlib.pyplot as plt\n",
    "\n",
    "rng = np.random.RandomState(42)\n",
    "x = 10 * rng.rand(200)\n",
    "\n",
    "def model(x, sigma=0.3):\n",
    "    fast_oscillation = np.sin(5 * x)\n",
    "    slow_oscillation = np.sin(0.5 * x)\n",
    "    noise = sigma * rng.randn(len(x))\n",
    "\n",
    "    return slow_oscillation + fast_oscillation + noise\n",
    "\n",
    "y = model(x)\n",
    "plt.errorbar(x, y, 0.3, fmt='o');"
   ]
  },
  {
   "cell_type": "markdown",
   "id": "fcdeda37-fa81-46d7-a355-f61f34aaec30",
   "metadata": {},
   "source": [
    "ii)Changing some hyperparameters and see the impact"
   ]
  },
  {
   "cell_type": "markdown",
   "id": "01a6d9d1-19f8-4f4a-bc56-4c5a497bdaf5",
   "metadata": {},
   "source": [
    "The hyperparameter here is sigma which indicates the noise level added to the model. The higher the noise, the more scattered is the module. Sigma is the standard deviation of the noise added to the model\n"
   ]
  },
  {
   "cell_type": "markdown",
   "id": "85456e0a-9151-4e35-8360-7aa337d6df11",
   "metadata": {},
   "source": [
    "(a)Hardcoding sigma values: Theoretically, the higher the sigma, the more scattered is the model and vice-versa. Let us see using three sigma values below;\n",
    "Let us use sigma values 0.1,0.5 and 1.0 to see the difference"
   ]
  },
  {
   "cell_type": "code",
   "execution_count": null,
   "id": "5ee64391-f262-4c26-b8a0-fd09d2243ee6",
   "metadata": {},
   "outputs": [],
   "source": [
    "import numpy as np\n",
    "import matplotlib.pyplot as plt\n",
    "\n",
    "rng = np.random.RandomState(42)\n",
    "x = 10 * rng.rand(200)\n",
    "# Define the model function with sigma as a hyperparameter\n",
    "def model(x, sigma=0.3):\n",
    "    fast_oscillation = np.sin(5 * x)\n",
    "    slow_oscillation = np.sin(0.5 * x)\n",
    "    noise = sigma * rng.randn(len(x))\n",
    "    return slow_oscillation + fast_oscillation + noise\n",
    "\n",
    "# Test with different sigma values\n",
    "sigma_values = [0.1, 0.5, 1.0]\n",
    "\n",
    "# Plot results for different sigma values\n",
    "for sigma in sigma_values:\n",
    "    y = model(x, sigma=sigma)\n",
    "    plt.figure()\n",
    "    plt.errorbar(x, y, yerr=sigma, fmt='o', label=f'sigma={sigma}')\n",
    "    plt.title(f'Model with Noise Level (sigma={sigma})')\n",
    "    plt.xlabel('x')\n",
    "    plt.ylabel('y')\n",
    "    plt.legend()\n",
    "    plt.show()\n"
   ]
  },
  {
   "cell_type": "markdown",
   "id": "f2bd9c9f-6da6-4478-8e79-689650d751c9",
   "metadata": {},
   "source": [
    "(b) Prompting user input for more flexible tests\n",
    "\n",
    "You may test different Sigma values by entering value in the prompt below"
   ]
  },
  {
   "cell_type": "code",
   "execution_count": null,
   "id": "66e51f07-aedf-4e42-9404-bc27935f359c",
   "metadata": {},
   "outputs": [],
   "source": [
    "import numpy as np\n",
    "import matplotlib.pyplot as plt\n",
    "\n",
    "def get_sigma():\n",
    "    while True:\n",
    "        try:\n",
    "            sigma = float(input(\"Enter the sigma value for noise: \"))\n",
    "            return sigma\n",
    "        except ValueError:\n",
    "            print(\"Invalid input. Please enter a numeric value.\")\n",
    "\n",
    "def model(x, sigma):\n",
    "    fast_oscillation = np.sin(5 * x)\n",
    "    slow_oscillation = np.sin(0.5 * x)\n",
    "    noise = sigma * rng.randn(len(x))\n",
    "    return slow_oscillation + fast_oscillation + noise\n",
    "\n",
    "rng = np.random.RandomState(42)\n",
    "x = 10 * rng.rand(200)\n",
    "\n",
    "# Let us trigger user input\n",
    "sigma = get_sigma()\n",
    "\n",
    "# Output generation\n",
    "y = model(x, sigma)\n",
    "\n",
    "# We can visualize the results as follows\n",
    "plt.errorbar(x, y, 0.3, fmt='o')\n",
    "plt.title(f'Model with sigma = {sigma}')\n",
    "plt.xlabel('x')\n",
    "plt.ylabel('y')\n",
    "plt.show()\n"
   ]
  },
  {
   "cell_type": "markdown",
   "id": "d9f909d8-19ef-451a-bc4f-61c6533d99b0",
   "metadata": {},
   "source": [
    "iii) Using another dataset to perform other operations, and simulate as an app"
   ]
  },
  {
   "cell_type": "markdown",
   "id": "c90f5018-a8e5-4400-ae58-fcf51cbf1937",
   "metadata": {},
   "source": [
    "The project will use a dataset drug200.csv which is the labelled dataset that has various features. By using Age, sex, BP, cholestrol, Na-to-K ratio, the drug is prescribed to a patient. All the patients are suffering from same disease but the treatment dosage is differentdepending on the measurement of each feature for each patient\n",
    "\n",
    "Using the dataset, the model is trained with 70% of the dataset and tested with 30% of the dataset.\n",
    "The performance is evaluated based on accuracy."
   ]
  },
  {
   "cell_type": "markdown",
   "id": "727f09a9-4b28-4ab7-aac6-32ccc83a51d9",
   "metadata": {},
   "source": [
    "==> We will start with creating, training and testing the Random Forests as a classifier"
   ]
  },
  {
   "cell_type": "markdown",
   "id": "22683e8a-e77d-4268-b2b9-7ab18117c487",
   "metadata": {},
   "source": [
    "a) Importing important libraries and the dataset"
   ]
  },
  {
   "cell_type": "code",
   "execution_count": null,
   "id": "d54ccc67-e540-4914-a23e-2df058de7b23",
   "metadata": {},
   "outputs": [],
   "source": [
    "import pandas as pd\n",
    "from sklearn.model_selection import train_test_split\n",
    "from sklearn.preprocessing import LabelEncoder\n",
    "from sklearn.ensemble import RandomForestClassifier\n",
    "from sklearn.metrics import accuracy_score\n",
    "\n",
    "df = pd.read_csv('drug200.csv')\n"
   ]
  },
  {
   "cell_type": "markdown",
   "id": "484e73c5-d787-4505-b548-113431a96868",
   "metadata": {},
   "source": [
    "b)Encoding categorical features since the model work with numbers"
   ]
  },
  {
   "cell_type": "code",
   "execution_count": null,
   "id": "fd5d3250-493c-4031-a4ef-2b6a555f8c2f",
   "metadata": {},
   "outputs": [],
   "source": [
    "df['Sex'] = df['Sex'].map({'F': 0, 'M': 1})  \n",
    "df['BP'] = df['BP'].map({'HIGH': 0, 'LOW': 1, 'NORMAL': 2})  \n",
    "df['Cholesterol'] = df['Cholesterol'].map({'HIGH': 0, 'NORMAL': 1}) "
   ]
  },
  {
   "cell_type": "markdown",
   "id": "78d1c25b-6662-48bc-8a8b-44fff32121b9",
   "metadata": {},
   "source": [
    "c) Feature and Target label preparation"
   ]
  },
  {
   "cell_type": "code",
   "execution_count": null,
   "id": "373bbb82-706b-4039-8ad0-263bbfb314b0",
   "metadata": {},
   "outputs": [],
   "source": [
    "X = df[['Age', 'Sex', 'BP', 'Cholesterol', 'Na_to_K']]\n",
    "y = df['Drug']"
   ]
  },
  {
   "cell_type": "markdown",
   "id": "e05c851c-2538-40b7-8892-c0d2c3254e9d",
   "metadata": {},
   "source": [
    "d)Encoding target variable which is Drug"
   ]
  },
  {
   "cell_type": "code",
   "execution_count": null,
   "id": "862044f5-b0d3-4772-99ac-e93c820ee027",
   "metadata": {},
   "outputs": [],
   "source": [
    "encoder = LabelEncoder()\n",
    "y_encoded = encoder.fit_transform(y)"
   ]
  },
  {
   "cell_type": "markdown",
   "id": "5ea25ca3-3de2-49ce-b3d5-d6e50e4ac61a",
   "metadata": {},
   "source": [
    "e)Splitting the data into training and testing sets, 70% and 30% respectively"
   ]
  },
  {
   "cell_type": "code",
   "execution_count": null,
   "id": "ac6da258-e02a-4277-aba8-26c5095ac61e",
   "metadata": {},
   "outputs": [],
   "source": [
    "X_train, X_test, y_train, y_test = train_test_split(X, y_encoded, test_size=0.3, random_state=42)"
   ]
  },
  {
   "cell_type": "markdown",
   "id": "f22845bb-f64e-4f8e-80f8-35cff0f2ad28",
   "metadata": {},
   "source": [
    "f) Creating and testing random Forest as Classifier"
   ]
  },
  {
   "cell_type": "code",
   "execution_count": null,
   "id": "755d70fd-2316-441f-8648-a5612b03830d",
   "metadata": {},
   "outputs": [],
   "source": [
    "model = RandomForestClassifier(n_estimators=100, random_state=42)\n",
    "model.fit(X_train, y_train)"
   ]
  },
  {
   "cell_type": "markdown",
   "id": "1d5209f3-8ff8-4db0-b5d3-b28426d669a0",
   "metadata": {},
   "source": [
    "g) Run predictions and evaluate model performance"
   ]
  },
  {
   "cell_type": "code",
   "execution_count": null,
   "id": "3a8e90ad-22e0-4c99-b9de-68908dee5ff5",
   "metadata": {},
   "outputs": [],
   "source": [
    "y_pred = model.predict(X_test)\n",
    "\n",
    "accuracy = accuracy_score(y_test, y_pred)\n",
    "print(f'Accuracy: {accuracy:.4f}')"
   ]
  },
  {
   "cell_type": "code",
   "execution_count": null,
   "id": "08982c15-f3cf-4a6d-bd28-964102cea736",
   "metadata": {},
   "outputs": [],
   "source": []
  },
  {
   "cell_type": "markdown",
   "id": "1d292de8-12c7-4b36-99d4-8ec4de79f653",
   "metadata": {},
   "source": [
    "==> Prompting user input for user flexibility and variety of feature values\n",
    "\n",
    "The program is similar to the one above but here user input is prompted. Therefore will only explain in a few combined steps"
   ]
  },
  {
   "cell_type": "markdown",
   "id": "68048560-4f1e-4b5c-ad42-4db7f1397ea7",
   "metadata": {},
   "source": [
    "Step1: Loading the dataset and libraries"
   ]
  },
  {
   "cell_type": "code",
   "execution_count": null,
   "id": "63804a4d-9c74-442c-90e6-52fc2442a0aa",
   "metadata": {},
   "outputs": [],
   "source": [
    "import pandas as pd\n",
    "from sklearn.preprocessing import LabelEncoder\n",
    "from sklearn.ensemble import RandomForestClassifier\n",
    "df = pd.read_csv('drug200.csv')"
   ]
  },
  {
   "cell_type": "markdown",
   "id": "09a273ec-a028-46d0-abda-e7cc540a3f9c",
   "metadata": {},
   "source": [
    "Step2: Preparation and Encoding of categorical features and target "
   ]
  },
  {
   "cell_type": "code",
   "execution_count": null,
   "id": "dec064e2-4674-429e-b93e-e68b88bdb314",
   "metadata": {},
   "outputs": [],
   "source": [
    "df['Sex'] = df['Sex'].map({'F': 0, 'M': 1})  \n",
    "df['BP'] = df['BP'].map({'HIGH': 0, 'LOW': 1, 'NORMAL': 2}) \n",
    "df['Cholesterol'] = df['Cholesterol'].map({'HIGH': 0, 'NORMAL': 1})  \n",
    "\n",
    "X = df[['Age', 'Sex', 'BP', 'Cholesterol', 'Na_to_K']]\n",
    "y = df['Drug']\n",
    "\n",
    "\n",
    "encoder = LabelEncoder()\n",
    "y_encoded = encoder.fit_transform(y)"
   ]
  },
  {
   "cell_type": "markdown",
   "id": "0533fcb5-5d86-438b-8fa0-84bacbf9127e",
   "metadata": {},
   "source": [
    "Step3: Creating, training and classifying the patient into a target label(Drug) based on user input"
   ]
  },
  {
   "cell_type": "code",
   "execution_count": null,
   "id": "2c91e5b6-265d-45a0-917f-756401b17237",
   "metadata": {},
   "outputs": [],
   "source": [
    "model = RandomForestClassifier(n_estimators=100, random_state=42)\n",
    "model.fit(X, y_encoded)\n",
    "\n",
    "print(\"Please provide the following details of your patient to predict the drug:\")\n",
    "age = int(input(\"Age (e.g., 23): \"))\n",
    "sex = input(\"Sex (F/M): \")\n",
    "bp = input(\"Blood Pressure (HIGH/LOW/NORMAL): \")\n",
    "cholesterol = input(\"Cholesterol (HIGH/NORMAL): \")\n",
    "na_to_k = float(input(\"Sodium to Potassium ratio (Na_to_K, e.g., 25.355): \"))\n",
    "\n",
    "sex_encoded = 0 if sex.upper() == 'F' else 1\n",
    "bp_encoded = {'HIGH': 0, 'LOW': 1, 'NORMAL': 2}.get(bp.upper(), 2)\n",
    "cholesterol_encoded = {'HIGH': 0, 'NORMAL': 1}.get(cholesterol.upper(), 1)\n",
    "\n",
    "user_input = pd.DataFrame([[age, sex_encoded, bp_encoded, cholesterol_encoded, na_to_k]], \n",
    "                          columns=['Age', 'Sex', 'BP', 'Cholesterol', 'Na_to_K'])\n",
    "\n",
    "predicted_label = model.predict(user_input)\n",
    "predicted_drug = encoder.inverse_transform(predicted_label)\n",
    "print(\"*\"*40)\n",
    "print(f\"The predicted drug for this patient based on given details is: {predicted_drug[0]}\")\n"
   ]
  },
  {
   "cell_type": "markdown",
   "id": "b9303cb2-a284-4c40-863c-4bb9f3f5ca51",
   "metadata": {},
   "source": [
    "REFERENCES"
   ]
  },
  {
   "cell_type": "markdown",
   "id": "9d688874-1293-4bd4-913d-4d4a4e1e5ecc",
   "metadata": {},
   "source": [
    "RagsX137. (2025). My own KNN Classifier. Notebook Community, available at: https://notebook.community/RagsX137/TF_Tutorial/My+own+KNN+Classifier [Accessed 5 Feb. 2025].\n",
    "\n",
    "Yahoo Finance. (2025). Tesla, Inc. (TSLA) Stock Price, News, Quote & History. Yahoo Finance, available at: https://finance.yahoo.com/quote/TSLA/?guccounter=1&guce_referrer=aHR0cHM6Ly93d3cuZ29vZ2xlLmNvbS8&guce_referrer_sig=AQAAAE0EIpCyfrPR0zR-jyMYOWNSqWOoYq3bdxTq2YmuXXmQO1JVPALSHNI0ZaHFjJygyLdh6qVqkW_gPDbzu_1NyGz1vrbq_ozMxjt4tGauDT1q4531B3vfwHJ-IrHQD15udeHq--64U9K1XuIlf8zYVeu2Oc11Czwp3XLfzGQQitSn [Accessed 12 Feb. 2025]."
   ]
  }
 ],
 "metadata": {
  "kernelspec": {
   "display_name": "Python 3 (ipykernel)",
   "language": "python",
   "name": "python3"
  },
  "language_info": {
   "codemirror_mode": {
    "name": "ipython",
    "version": 3
   },
   "file_extension": ".py",
   "mimetype": "text/x-python",
   "name": "python",
   "nbconvert_exporter": "python",
   "pygments_lexer": "ipython3",
   "version": "3.11.9"
  }
 },
 "nbformat": 4,
 "nbformat_minor": 5
}
